{
 "cells": [
  {
   "cell_type": "code",
   "execution_count": 1,
   "id": "1dd23467",
   "metadata": {},
   "outputs": [],
   "source": [
    "from selenium import webdriver\n",
    "from selenium.webdriver.common.by import By\n",
    "from selenium.webdriver.common.keys import Keys\n",
    "from selenium.webdriver.chrome.options import Options\n",
    "from selenium.webdriver.chrome.service import Service\n",
    "from selenium.common.exceptions import NoSuchElementException\n",
    "from selenium.webdriver.support.ui import WebDriverWait\n",
    "from selenium.webdriver.support import expected_conditions as EC\n",
    "from selenium.common.exceptions import NoAlertPresentException\n",
    "from selenium.webdriver.support.ui import Select\n",
    "\n",
    "from bs4 import BeautifulSoup as BS\n",
    "from datetime import datetime\n",
    "from random import *\n",
    "\n",
    "import pandas as pd\n",
    "import time\n",
    "import sys, os\n",
    "import random\n",
    "import re\n",
    "import math\n",
    "\n",
    "\n",
    "def find_css(css_selector, browser):\n",
    "    return browser.find_element(By.CSS_SELECTOR, css_selector)\n",
    "def finds_css(css_selector, browser):\n",
    "    return browser.find_elements(By.CSS_SELECTOR, css_selector)\n",
    "\n",
    "def find_xpath(xpath, browser):\n",
    "    return browser.find_element(By.XPATH, xpath)\n",
    "def finds_xpath(xpath, browser):\n",
    "    return browser.find_elements(By.XPATH, xpath)\n",
    "\n",
    "def find_id(e_id, browser):\n",
    "    return browser.find_element(By.ID, e_id)\n",
    "\n",
    "def find_className(cn, browser):\n",
    "    return browser.find_element(By.CLASS_NAME, cn)\n",
    "def finds_className(cn , browser):\n",
    "    return browser.find_element(By.CLASS_NAME, cn)\n",
    "\n",
    "def find_linktext(lt, browser):\n",
    "    return browser.find_element(By.LINK_TEXT, lt)\n",
    "\n",
    "def find_name(name, browser):\n",
    "    return browser.find_element(By.NAME, name)\n",
    "def finds_name(name, browser):\n",
    "    return browser.find_elements(By.NAME, name)\n",
    "\n",
    "def resource_path(relative_path):\n",
    "    \"\"\" Get absolute path to resource, works for dev and for PyInstaller \"\"\"\n",
    "    base_path = getattr(sys, '_MEIPASS', os.path.dirname(os.path.abspath(__file__)))\n",
    "    return os.path.join(base_path, relative_path)\n",
    "\n",
    "def calculate_percentage(value, percentage):\n",
    "    result = (value * percentage) / 100\n",
    "    return result\n",
    "\n",
    "def extracting_numbers_from_text(text_price):\n",
    "    pattern = r'\\d+'\n",
    "    matches = re.findall(pattern, text_price)\n",
    "    result = int(''.join(matches))\n",
    "    return int(result)\n",
    "\n",
    "pattern = r'\\d+'"
   ]
  },
  {
   "cell_type": "code",
   "execution_count": 2,
   "id": "12d0f5e2",
   "metadata": {},
   "outputs": [],
   "source": [
    "def open_browser():    \n",
    "    options = webdriver.ChromeOptions()\n",
    "    options.add_argument(\"--window-size=1080,800\")\n",
    "\n",
    "    chrome_service = Service('chromedriver')\n",
    "    chrome_service = Service(executable_path=\"chromedriver.exe\")\n",
    "    browser = webdriver.Chrome(service=chrome_service, options=options)\n",
    "    \n",
    "    return browser\n",
    "\n",
    "def open_url(browser, url):\n",
    "    browser.get(url)\n",
    "    time.sleep(1)"
   ]
  },
  {
   "cell_type": "code",
   "execution_count": 3,
   "id": "9d296783",
   "metadata": {},
   "outputs": [],
   "source": [
    "url = 'https://rnr.surveybox.kr/?pid=S16668f58vvy&grpid=list&resid=응답자고유번호'\n",
    "# 소재지 (주소)\n",
    "rn = '아차산로 11'\n",
    "# 상세주소\n",
    "srn = 0\n",
    "# 회사 유형 (조직형태)\n",
    "cs = 1"
   ]
  },
  {
   "cell_type": "code",
   "execution_count": 4,
   "id": "e41c6854",
   "metadata": {},
   "outputs": [],
   "source": [
    "browser = open_browser()\n",
    "open_url(browser, url)"
   ]
  },
  {
   "cell_type": "code",
   "execution_count": 5,
   "id": "ac436031",
   "metadata": {},
   "outputs": [],
   "source": [
    "def first_page_field(browser, regionName, sub_regionName, company_size):\n",
    "    # click region btn\n",
    "    find_id('btnZipSearchSQ4', browser).click()\n",
    "\n",
    "    try:\n",
    "        iframe_1 = find_xpath('/html/body/div[1]/form/table[1]/tbody/tr[2]/td[2]/table/tbody/tr[1]/td/table[3]/tbody/tr/td/center/table/tbody/tr[4]/td/table[2]/tbody/tr/td/div/div/iframe', browser)\n",
    "        browser.switch_to.frame(iframe_1)\n",
    "        time.sleep(.3)\n",
    "        browser.switch_to.frame('__daum__viewerFrame_1')\n",
    "    except:\n",
    "        pass\n",
    "\n",
    "    region_name_input = find_id('region_name', browser)\n",
    "    region_name_input.send_keys(regionName)\n",
    "\n",
    "    time.sleep(.5)\n",
    "\n",
    "    region_name_input.send_keys('\\n')\n",
    "\n",
    "    time.sleep(1.5)\n",
    "\n",
    "    region_click = find_xpath('/html/body/div[1]/div/div[2]/ul/li/dl/dd[1]/span/button', browser)\n",
    "    region_click.click()\n",
    "\n",
    "    browser.switch_to.default_content()\n",
    "\n",
    "    time.sleep(.5)\n",
    "\n",
    "    if sub_regionName != 0:\n",
    "        # sub_region_input\n",
    "        find_id('objSQ4_2', browser).send_keys(sub_regionName)\n",
    "    else:\n",
    "        # sub_region_input\n",
    "        find_id('objSQ4_2', browser).send_keys('-')\n",
    "\n",
    "    if company_size == 1:\n",
    "        # 회사법인\n",
    "        find_id('objSQ5_1', browser).click()\n",
    "    elif company_size == 2:\n",
    "        # 회사외 법인\n",
    "        find_id('objSQ5_2', browser).click()\n",
    "    elif company_size == 3:\n",
    "        # 개인 사업체\n",
    "        find_id('objSQ5_3', browser).click()\n",
    "    elif company_size == 4:\n",
    "        # 비법인 단체\n",
    "        find_id('objSQ5_4', browser).click()\n",
    "\n",
    "    time.sleep(1)\n",
    "    find_id('BtnNextPage', browser).click()"
   ]
  },
  {
   "cell_type": "code",
   "execution_count": 7,
   "id": "37e27fc8",
   "metadata": {},
   "outputs": [],
   "source": [
    "first_page_field(browser, rn, srn, cs)"
   ]
  },
  {
   "cell_type": "code",
   "execution_count": 8,
   "id": "177c6afc",
   "metadata": {},
   "outputs": [],
   "source": [
    "# 회사구분\n",
    "cc = 2\n",
    "# 기업유형\n",
    "ct = 3\n",
    "# 창업년도\n",
    "yoe = '2003'"
   ]
  },
  {
   "cell_type": "code",
   "execution_count": 6,
   "id": "43015efa",
   "metadata": {},
   "outputs": [],
   "source": [
    "def second_page_field(browser, company_classification, company_type, year_of_establishment):\n",
    "    if company_classification == 1:\n",
    "        # 단독사업체\n",
    "        find_id('objSQ6_1', browser).click()\n",
    "    elif company_classification == 2:\n",
    "        # 본사-본점\n",
    "        find_id('objSQ6_2', browser).click()\n",
    "    elif company_classification == 3:\n",
    "        # 지사·영업소·부설공장 등\n",
    "        find_id('objSQ6_3', browser).click()\n",
    "\n",
    "    if company_type == 1:\n",
    "        # 대기업\n",
    "        find_id('objSQ7_1', browser).click()\n",
    "    elif company_type == 2:\n",
    "        # 중견기업\n",
    "        find_id('objSQ7_2', browser).click()\n",
    "    elif company_type == 3:\n",
    "        # 중소기업\n",
    "        find_id('objSQ7_3', browser).click()\n",
    "\n",
    "    find_id('objSQ8', browser).clear()\n",
    "    find_id('objSQ8', browser).send_keys(year_of_establishment)\n",
    "\n",
    "    time.sleep(.5)\n",
    "    find_id('BtnNextPage', browser).click()"
   ]
  },
  {
   "cell_type": "code",
   "execution_count": 10,
   "id": "f71e54d1",
   "metadata": {},
   "outputs": [],
   "source": [
    "second_page_field(browser, cc, ct, yoe)"
   ]
  },
  {
   "cell_type": "code",
   "execution_count": 7,
   "id": "eb6ec89f",
   "metadata": {},
   "outputs": [],
   "source": [
    "ra_man = 5\n",
    "ra_mcw = 5\n",
    "ra_girl = 5\n",
    "ra_gcw = 5\n",
    "r_man = 5\n",
    "r_mcw = 5\n",
    "r_girl = 5\n",
    "r_gcw = 5"
   ]
  },
  {
   "cell_type": "code",
   "execution_count": 8,
   "id": "acfc040e",
   "metadata": {},
   "outputs": [],
   "source": [
    "def third_page_field(browser, ra_man, ra_mcw, ra_girl, ra_gcw, r_man, r_mcw, r_girl, r_gcw):\n",
    "    # 기업전체\n",
    "    ## 남 - 상시종사자\n",
    "    find_id('objSQ9_1_1', browser).send_keys(ra_man)\n",
    "    ## 남 - 생산관련직\n",
    "    find_id('objSQ9_1_2', browser).send_keys(ra_mcw)\n",
    "\n",
    "    ## 여 - 상시종사자\n",
    "    find_id('objSQ9_2_1', browser).send_keys(ra_girl)\n",
    "    ## 여 - 생산종사자\n",
    "    find_id('objSQ9_2_2', browser).send_keys(ra_gcw)\n",
    "\n",
    "    # 본사\n",
    "    ## 남 - 상시종사자\n",
    "    find_id('objSQ9_1_3', browser).send_keys(r_man)\n",
    "    ## 남 - 생산관련직\n",
    "    find_id('objSQ9_1_4', browser).send_keys(r_mcw)\n",
    "\n",
    "    ## 여 - 상시종사자\n",
    "    find_id('objSQ9_2_3', browser).send_keys(r_girl)\n",
    "    ## 여 - 생산종사자\n",
    "    find_id('objSQ9_2_4', browser).send_keys(r_gcw)\n",
    "\n",
    "    time.sleep(.5)\n",
    "    find_id('BtnNextPage', browser).click()"
   ]
  },
  {
   "cell_type": "code",
   "execution_count": 17,
   "id": "47af58ff",
   "metadata": {},
   "outputs": [],
   "source": [
    "third_page_field(browser, ra_man, ra_mcw, ra_girl, ra_gcw, r_man, r_mcw, r_girl, r_gcw)"
   ]
  },
  {
   "cell_type": "code",
   "execution_count": 208,
   "id": "ead2ac79",
   "metadata": {},
   "outputs": [],
   "source": [
    "s1 = 22"
   ]
  },
  {
   "cell_type": "code",
   "execution_count": 211,
   "id": "3e740697",
   "metadata": {},
   "outputs": [],
   "source": [
    "def four_page_field(browser ,s1):\n",
    "    if s1 == 10:\n",
    "        find_id('objA1_10', browser).click()\n",
    "    elif s1 == 11:\n",
    "        find_id('objA1_11', browser).click()\n",
    "    elif s1 == 13:\n",
    "        find_id('objA1_13', browser).click()\n",
    "    elif s1 == 14:\n",
    "        find_id('objA1_14', browser).click()\n",
    "    elif s1 == 15:\n",
    "        find_id('objA1_15', browser).click()\n",
    "    elif s1 == 16:\n",
    "        find_id('objA1_16', browser).click()\n",
    "    elif s1 == 17:\n",
    "        find_id('objA1_17', browser).click()\n",
    "    elif s1 == 18:\n",
    "        find_id('objA1_18', browser).click()\n",
    "    elif s1 == 19:\n",
    "        find_id('objA1_19', browser).click()\n",
    "    elif s1 == 20:\n",
    "        find_id('objA1_20', browser).click()\n",
    "    elif s1 == 21:\n",
    "        find_id('objA1_21', browser).click()\n",
    "    elif s1 == 22:\n",
    "        find_id('objA1_22', browser).click()\n",
    "    elif s1 == 23:\n",
    "        find_id('objA1_23', browser).click()\n",
    "    elif s1 == 24:\n",
    "        find_id('objA1_24', browser).click()\n",
    "    elif s1 == 25:\n",
    "        find_id('objA1_25', browser).click()\n",
    "    elif s1 == 26:\n",
    "        find_id('objA1_26', browser).click()\n",
    "    elif s1 == 27:\n",
    "        find_id('objA1_27', browser).click()\n",
    "    elif s1 == 28:\n",
    "        find_id('objA1_28', browser).click()\n",
    "    elif s1 == 29:\n",
    "        find_id('objA1_29', browser).click()\n",
    "    elif s1 == 30:\n",
    "        find_id('objA1_30', browser).click()\n",
    "    elif s1 == 31:\n",
    "        find_id('objA1_31', browser).click()\n",
    "    elif s1 == 32:\n",
    "        find_id('objA1_32', browser).click()\n",
    "    elif s1 == 33:\n",
    "        find_id('objA1_33', browser).click()\n",
    "    elif s1 == 37:\n",
    "        find_id('objA1_37', browser).click()\n",
    "    elif s1 == 38:\n",
    "        find_id('objA1_38', browser).click()\n",
    "    elif s1 == 39:\n",
    "        find_id('objA1_39', browser).click()\n",
    "    elif s1 == 41:\n",
    "        find_id('objA1_41', browser).click()\n",
    "    elif s1 == 42:\n",
    "        find_id('objA1_42', browser).click()\n",
    "    elif s1 == 45:\n",
    "        find_id('objA1_45', browser).click()\n",
    "    elif s1 == 46:\n",
    "        find_id('objA1_46', browser).click()\n",
    "    elif s1 == 47:\n",
    "        find_id('objA1_47', browser).click()\n",
    "    elif s1 == 49:\n",
    "        find_id('objA1_49', browser).click()\n",
    "    elif s1 == 50:\n",
    "        find_id('objA1_50', browser).click()\n",
    "    elif s1 == 51:\n",
    "        find_id('objA1_51', browser).click()\n",
    "    elif s1 == 52:\n",
    "        find_id('objA1_52', browser).click()\n",
    "    elif s1 == 58:\n",
    "        find_id('objA1_58', browser).click()\n",
    "    elif s1 == 59:\n",
    "        find_id('objA1_59', browser).click()\n",
    "    elif s1 == 60:\n",
    "        find_id('objA1_60', browser).click()\n",
    "    elif s1 == 61:\n",
    "        find_id('objA1_61', browser).click()\n",
    "    elif s1 == 62:\n",
    "        find_id('objA1_62', browser).click()\n",
    "    elif s1 == 63:\n",
    "        find_id('objA1_63', browser).click()\n",
    "    elif s1 == 70:\n",
    "        find_id('objA1_70', browser).click()\n",
    "    elif s1 == 71:\n",
    "        find_id('objA1_71', browser).click()\n",
    "    elif s1 == 72:\n",
    "        find_id('objA1_72', browser).click()\n",
    "    elif s1 == 73:\n",
    "        find_id('objA1_73', browser).click()\n",
    "    \n",
    "    time.sleep(.5)\n",
    "    find_id('BtnNextPage', browser).click()"
   ]
  },
  {
   "cell_type": "code",
   "execution_count": 212,
   "id": "8c292527",
   "metadata": {},
   "outputs": [],
   "source": [
    "four_page_field(browser ,s1)"
   ]
  },
  {
   "cell_type": "code",
   "execution_count": 11,
   "id": "e06d4e63",
   "metadata": {},
   "outputs": [],
   "source": [
    "cm1 = 100\n",
    "cm2 = 102\n",
    "sm1 = 103\n",
    "sm2 = 104\n",
    "em1 = 105\n",
    "em2 = 106\n",
    "bm1 = 107\n",
    "bm2 = 108"
   ]
  },
  {
   "cell_type": "code",
   "execution_count": 12,
   "id": "340cd4e3",
   "metadata": {},
   "outputs": [],
   "source": [
    "def five_page_field(browser, cm1, cm2, sm1, sm2, em1, em2, bm1, bm2):\n",
    "    # 귀사의 연도별 자본금, 매출액, 수출액, 영업이익은 얼마나 되나요?\n",
    "    \n",
    "    # 자본금 capital\n",
    "    ## 2022\n",
    "    find_id('objA2_1_1', browser).send_keys(cm1)\n",
    "    ## 2021\n",
    "    find_id('objA2_1_2', browser).send_keys(cm2)\n",
    "\n",
    "    # 매출액 Sales\n",
    "    ## 2022\n",
    "    find_id('objA2_2_1', browser).send_keys(sm1)\n",
    "    ## 2021\n",
    "    find_id('objA2_2_2', browser).send_keys(sm2)\n",
    "\n",
    "    # 수출액 amount of exports\n",
    "    ## 2022\n",
    "    find_id('objA2_3_1', browser).send_keys(em1)\n",
    "    ## 2021\n",
    "    find_id('objA2_3_2', browser).send_keys(em2)\n",
    "\n",
    "    # 영업이익 business profits\n",
    "    ## 2022\n",
    "    find_id('objA2_4_1', browser).send_keys(bm1)\n",
    "    ## 2021\n",
    "    find_id('objA2_4_2', browser).send_keys(bm2)\n",
    "    \n",
    "    time.sleep(.5)\n",
    "    find_id('BtnNextPage', browser).click()"
   ]
  },
  {
   "cell_type": "code",
   "execution_count": 64,
   "id": "8a4a0ab0",
   "metadata": {},
   "outputs": [],
   "source": [
    "five_page_field(browser, cm1, cm2, sm1, sm2, em1, em2, bm1, bm2)"
   ]
  },
  {
   "cell_type": "code",
   "execution_count": 13,
   "id": "6d63d74b",
   "metadata": {},
   "outputs": [],
   "source": [
    "btf = 2\n",
    "etc_btf = 'test'"
   ]
  },
  {
   "cell_type": "code",
   "execution_count": 14,
   "id": "cafdc0b0",
   "metadata": {},
   "outputs": [],
   "source": [
    "def six_page_field(browser, btf, etc_btf):\n",
    "    # Business transaction form\n",
    "    # 귀사의 주요 거래 형태를 선택해 주십시오.\n",
    "    \n",
    "    if btf == 1:\n",
    "        find_id('objA3_1', browser).click()\n",
    "    elif btf == 2:\n",
    "        find_id('objA3_2', browser).click()\n",
    "    elif btf == 3:\n",
    "        find_id('objA3_3', browser).click()\n",
    "    elif btf == 4:\n",
    "        find_id('objA3_4', browser).click()\n",
    "        time.sleep(1)\n",
    "        find_id('objA3_4_etc', browser).send_keys(etc_btf)\n",
    "    \n",
    "    time.sleep(.5)\n",
    "    find_id('BtnNextPage', browser).click()"
   ]
  },
  {
   "cell_type": "code",
   "execution_count": 70,
   "id": "b74b541c",
   "metadata": {},
   "outputs": [],
   "source": [
    "six_page_field(browser, btf, etc_btf)"
   ]
  },
  {
   "cell_type": "code",
   "execution_count": 300,
   "id": "f3297e6e",
   "metadata": {},
   "outputs": [],
   "source": [
    "seven1 = 92"
   ]
  },
  {
   "cell_type": "code",
   "execution_count": 309,
   "id": "396cad0b",
   "metadata": {},
   "outputs": [],
   "source": [
    "def seven_page_field(browser, seven1):\n",
    "    \"\"\"\n",
    "    귀사의 최고경영자 임원 직원의 전반적인 정보화에 대한 관심 및 의지는 \n",
    "    어느 정도인지 선택 해주십시오.\n",
    "    \"\"\"\n",
    "    \n",
    "    if 0 <= seven1 <= 30:  # 매우 낮음 and 낮음\n",
    "        for i in range(1, 7):\n",
    "            randint = random.randint(1, 2)\n",
    "            find_id(f'objB1_{i}_1', browser).click() if randint == 1 else find_id(f'objB1_{i}_2', browser).click()\n",
    "        \n",
    "    if 31 <= seven1 <= 60:  # 낮음 and 보통\n",
    "        for i in range(1, 7):\n",
    "            randint = random.randint(1, 2)\n",
    "            find_id(f'objB1_{i}_2', browser).click() if randint == 1 else find_id(f'objB1_{i}_3', browser).click()\n",
    "            \n",
    "    if 61 <= seven1 <= 80:  # 보통 and 높음\n",
    "        for i in range(1, 7):\n",
    "            randint = random.randint(1, 2)\n",
    "            find_id(f'objB1_{i}_3', browser).click() if randint == 1 else find_id(f'objB1_{i}_4', browser).click()\n",
    "            \n",
    "    if 81 <= seven1 <= 100:  # 높음 and 매우높음\n",
    "        for i in range(1, 7):\n",
    "            randint = random.randint(1, 2)\n",
    "            find_id(f'objB1_{i}_4', browser).click() if randint == 1 else find_id(f'objB1_{i}_5', browser).click()\n",
    "\n",
    "    time.sleep(.5)\n",
    "    find_id('BtnNextPage', browser).click()"
   ]
  },
  {
   "cell_type": "code",
   "execution_count": 310,
   "id": "f0dfd5a5",
   "metadata": {},
   "outputs": [],
   "source": [
    "seven_page_field(browser, seven1)"
   ]
  },
  {
   "cell_type": "code",
   "execution_count": 311,
   "id": "25a5c790",
   "metadata": {},
   "outputs": [],
   "source": [
    "def eight_page_field(browser, seven1):\n",
    "    \"\"\"\n",
    "    귀사의 정보화 추진계획 (ERP, 사무자동화, 물류시스템 등)의 수립 정도는 어느 정도\n",
    "    라고 생각하십니까?\n",
    "    \"\"\"\n",
    "    \n",
    "    if 1 <= seven1 <= 19: # 20% 미만\n",
    "        find_id('objB2_1', browser).click()\n",
    "    elif 20 <= seven1 <= 39: # 40% 미만\n",
    "        find_id('objB2_2', browser).click()\n",
    "    elif 40 <= seven1 <= 59: # 60% 미만\n",
    "        find_id('objB2_3', browser).click()\n",
    "    elif 60 <= seven1 <= 79: # 80% 미만\n",
    "        find_id('objB2_4', browser).click()\n",
    "    elif 80 <= seven1 <= 99: # 80~100% 미만\n",
    "        find_id('objB2_5', browser).click()\n",
    "    elif seven1 == 100: # 100%\n",
    "        find_id('objB2_6', browser).click()\n",
    "    elif seven1 == 0:\n",
    "        find_id('objB2_7', browser).click()\n",
    "        \n",
    "    time.sleep(.5)\n",
    "    find_id('BtnNextPage', browser).click()"
   ]
  },
  {
   "cell_type": "code",
   "execution_count": 312,
   "id": "15f57c81",
   "metadata": {},
   "outputs": [],
   "source": [
    "eight_page_field(browser, seven1)"
   ]
  },
  {
   "cell_type": "code",
   "execution_count": 313,
   "id": "b33e3e39",
   "metadata": {},
   "outputs": [],
   "source": [
    "def nine_page_field(browser, seven1):\n",
    "    # 귀사는 최근 3년간 정보화 투자와 관련하여 타당성 분석을 실시한 적이 있습니까?\n",
    "    if 0 <= seven1 <= 20:\n",
    "        find_id('objB3_1', browser).click()\n",
    "    elif 21 <= seven1 <= 80:\n",
    "        find_id('objB3_2', browser).click()\n",
    "    elif 81 <= seven1 <= 100:\n",
    "        find_id('objB3_3', browser).click()\n",
    "        \n",
    "    time.sleep(.5)\n",
    "    find_id('BtnNextPage', browser).click()"
   ]
  },
  {
   "cell_type": "code",
   "execution_count": 314,
   "id": "60aa4ba8",
   "metadata": {},
   "outputs": [],
   "source": [
    "nine_page_field(browser, seven1)"
   ]
  },
  {
   "cell_type": "code",
   "execution_count": 515,
   "id": "a4634f60",
   "metadata": {},
   "outputs": [],
   "source": [
    "ten1 = 34\n",
    "ten2 = 10\n",
    "ten3 = 10\n",
    "ten4 = 10\n",
    "ten5 = 10\n",
    "ten6 = 10\n",
    "ten7 = 10\n",
    "ten8 = 10"
   ]
  },
  {
   "cell_type": "code",
   "execution_count": 343,
   "id": "efb8d469",
   "metadata": {},
   "outputs": [
    {
     "data": {
      "text/plain": [
       "10"
      ]
     },
     "execution_count": 343,
     "metadata": {},
     "output_type": "execute_result"
    }
   ],
   "source": [
    "ten1"
   ]
  },
  {
   "cell_type": "code",
   "execution_count": 564,
   "id": "63bffbdc",
   "metadata": {},
   "outputs": [
    {
     "name": "stdout",
     "output_type": "stream",
     "text": [
      "5\n"
     ]
    }
   ],
   "source": [
    "ranint = random.randrange(5, 11)\n",
    "print(ranint)"
   ]
  },
  {
   "cell_type": "code",
   "execution_count": 569,
   "id": "c914d9ba",
   "metadata": {},
   "outputs": [],
   "source": [
    "def ten_page_field(browser, ten1):\n",
    "    # 귀사의 정보화 투자(지출) 금액은 얼마입니까?\n",
    "    # 신규투자\n",
    "    random_list = [0.2, 0.3, 0.4, 0.5]\n",
    "    ranint = random.randrange(0, 3+1)\n",
    "    \n",
    "    ranint2 = random.randrange(5, 11)\n",
    "    \n",
    "    tten1 = ten1 * random_list[ranint]\n",
    "    ## 2022년 실적 (원)\n",
    "    \n",
    "    find_id('objC1_1_1', browser).send_keys()\n",
    "    ## 2022년 실적 (%)\n",
    "    find_id('objC1_1_2', browser).send_keys(int(ten1 - tten1))\n",
    "\n",
    "    ## 2023년 실적 (원)\n",
    "    find_id('objC1_2_1', browser).send_keys()\n",
    "    ## 2023년 실적 (%)\n",
    "    find_id('objC1_2_2', browser).send_keys(int(ten1 - tten1 + ranint2))\n",
    "\n",
    "    # 유지보수\n",
    "    ## 2022년 실적 (원)\n",
    "    find_id('objC1_1_3', browser).send_keys()\n",
    "    ## 2022년 실적 (%)\n",
    "    find_id('objC1_1_4', browser).send_keys(int(tten1))\n",
    "\n",
    "    ## 2023년 실적 (원)\n",
    "    find_id('objC1_2_3', browser).send_keys()\n",
    "    ## 2023년 실적 (%)\n",
    "    find_id('objC1_2_4', browser).send_keys(int(tten1 + ranint2))\n",
    "    \n",
    "    time.sleep(.5)\n",
    "    find_id('BtnNextPage', browser).click()"
   ]
  },
  {
   "cell_type": "code",
   "execution_count": 570,
   "id": "e63f6212",
   "metadata": {},
   "outputs": [],
   "source": [
    "ten_page_field(browser, ten1)"
   ]
  },
  {
   "cell_type": "code",
   "execution_count": 571,
   "id": "21e4a9f5",
   "metadata": {},
   "outputs": [],
   "source": [
    "eleven1 = 10"
   ]
  },
  {
   "cell_type": "code",
   "execution_count": 590,
   "id": "a1a7ed41",
   "metadata": {
    "scrolled": true
   },
   "outputs": [
    {
     "name": "stdout",
     "output_type": "stream",
     "text": [
      "0\n",
      "0\n",
      "0\n",
      "1\n",
      "1\n",
      "0\n",
      "1\n",
      "0\n",
      "1\n",
      "0\n",
      "0\n",
      "0\n",
      "0\n",
      "0\n",
      "0\n",
      "0\n",
      "0\n",
      "0\n",
      "1\n",
      "0\n",
      "0\n",
      "0\n",
      "0\n",
      "1\n",
      "0\n",
      "1\n",
      "0\n",
      "0\n",
      "1\n",
      "1\n",
      "0\n",
      "1\n",
      "1\n",
      "0\n",
      "0\n",
      "0\n",
      "0\n",
      "0\n",
      "1\n",
      "1\n",
      "0\n",
      "0\n",
      "0\n",
      "1\n",
      "1\n",
      "0\n",
      "1\n",
      "0\n",
      "0\n",
      "0\n",
      "1\n",
      "0\n",
      "0\n",
      "1\n",
      "1\n",
      "0\n",
      "0\n",
      "0\n",
      "0\n",
      "1\n",
      "1\n",
      "0\n",
      "0\n",
      "0\n",
      "0\n",
      "0\n",
      "0\n",
      "0\n",
      "0\n",
      "0\n",
      "1\n",
      "0\n",
      "1\n",
      "0\n",
      "0\n",
      "0\n",
      "0\n",
      "1\n",
      "0\n",
      "0\n",
      "1\n",
      "1\n",
      "0\n",
      "0\n",
      "0\n",
      "0\n",
      "0\n",
      "1\n",
      "1\n",
      "0\n",
      "0\n",
      "0\n",
      "0\n",
      "0\n",
      "1\n",
      "0\n",
      "1\n",
      "1\n",
      "0\n",
      "0\n"
     ]
    }
   ],
   "source": [
    "import random\n",
    "probabilities = [0.7, 0.3]\n",
    "\n",
    "for _ in range(100):\n",
    "    result = random.choices([0, 1], weights=probabilities)[0]\n",
    "    print(result)"
   ]
  },
  {
   "cell_type": "code",
   "execution_count": 591,
   "id": "20270ad6",
   "metadata": {},
   "outputs": [],
   "source": [
    "def eleven_page_field(browser, eleven1, eleven2):\n",
    "    \"\"\"\n",
    "    귀사는 지난 1년간 임직원 대상으로 정보화 교육을 실시한 적이 있으십니까?\n",
    "    해당 사항을 모두 선택해 주십시오.\n",
    "    \"\"\"\n",
    "    if eleven1 != 0:\n",
    "        find_id('objC2_1', browser).click()\n",
    "        if eleven2 != 0:\n",
    "            find_id('objC2_2', browser).click()\n",
    "            \n",
    "        probabilities = [0.7, 0.3]\n",
    "        result = random.choices([0, 1], weights=probabilities)[0]\n",
    "        if result == 1:\n",
    "            find_id('objC2_3', browser).click()\n",
    "    else:\n",
    "        find_id('objC2_5', browser).click()\n",
    "    \n",
    "    time.sleep(.5)\n",
    "    find_id('BtnNextPage', browser).click()"
   ]
  },
  {
   "cell_type": "code",
   "execution_count": 122,
   "id": "370c7372",
   "metadata": {},
   "outputs": [],
   "source": [
    "eleven_page_field(browser)"
   ]
  },
  {
   "cell_type": "code",
   "execution_count": 24,
   "id": "8638ce2b",
   "metadata": {},
   "outputs": [],
   "source": [
    "twelve1 = 10\n",
    "twelve2 = 11\n",
    "twelve3 = 12\n",
    "twelve4 = 13\n",
    "twelve5 = 14"
   ]
  },
  {
   "cell_type": "code",
   "execution_count": 25,
   "id": "0e2b7f84",
   "metadata": {},
   "outputs": [],
   "source": [
    "def twelve_page_field(browser, twelve1, twelve2, twelve3, twelve4, twelve5):\n",
    "    # 귀사의 정보화 담당 인력은 어떻게 되십니까?\n",
    "    ## 전담인력\n",
    "    find_id('objC3_1_1', browser).send_keys(twelve1)\n",
    "    find_id('objC3_1_2', browser).send_keys(twelve2)\n",
    "    find_id('objC3_1_3', browser).send_keys(twelve3)\n",
    "    find_id('objC3_1_4', browser).send_keys(twelve4)\n",
    "    find_id('objC3_1_5', browser).send_keys(twelve5)\n",
    "    \n",
    "    time.sleep(.5)\n",
    "    find_id('BtnNextPage', browser).click()"
   ]
  },
  {
   "cell_type": "code",
   "execution_count": 128,
   "id": "6f1a5a5b",
   "metadata": {},
   "outputs": [],
   "source": [
    "twelve_page_field(browser, twelve1, twelve2, twelve3, twelve4, twelve5)"
   ]
  },
  {
   "cell_type": "code",
   "execution_count": 26,
   "id": "ce7d3e64",
   "metadata": {},
   "outputs": [],
   "source": [
    "thirt1 = 1\n",
    "thirt2 = 1\n",
    "\n",
    "thirt1_1 = 73"
   ]
  },
  {
   "cell_type": "code",
   "execution_count": 27,
   "id": "b2197bd7",
   "metadata": {},
   "outputs": [],
   "source": [
    "def thirteenth_page_field(browser, thirt1, thirt2, thirt1_1):\n",
    "    if thirt1 == 1:\n",
    "        find_id('objC4_1a_1', browser).click()\n",
    "        time.sleep(.5)\n",
    "        # 정보화 업무 비율\n",
    "        find_id('objC4_1b_1', browser).send_keys(thirt1_1)\n",
    "        find_id('objC4_1b_2', browser).send_keys(100 - thirt1_1)\n",
    "        \n",
    "    elif thirt1 == 2:\n",
    "        find_id('objC4_1a_2', browser).click()\n",
    "        \n",
    "    if thirt2 == 1:\n",
    "        find_id('objC4_2_1', browser).click()\n",
    "    elif thirt2 == 2:\n",
    "        find_id('objC4_2_2', browser).click()\n",
    "        \n",
    "    time.sleep(.5)\n",
    "    find_id('BtnNextPage', browser).click()"
   ]
  },
  {
   "cell_type": "code",
   "execution_count": 140,
   "id": "fd79bdff",
   "metadata": {},
   "outputs": [],
   "source": [
    "thirteenth_page_field(browser, thirt1, thirt2, thirt1_1)"
   ]
  },
  {
   "cell_type": "code",
   "execution_count": 28,
   "id": "cd15286b",
   "metadata": {},
   "outputs": [],
   "source": [
    "def fourteen_page_field(browser):\n",
    "    # 정보화 업무에 아웃소싱을 도입하거나 향후 확대하려는 이유는 무엇입니까?\n",
    "    find_id('objC4_1_1', browser).click()\n",
    "    find_id('objC4_1_2', browser).click()\n",
    "    find_id('objC4_1_3', browser).click()\n",
    "    find_id('objC4_1_4', browser).click()\n",
    "    find_id('objC4_1_5', browser).click()\n",
    "    # find_id('objC4_1_6', browser).click()\n",
    "    \n",
    "    time.sleep(.5)\n",
    "    find_id('BtnNextPage', browser).click()"
   ]
  },
  {
   "cell_type": "code",
   "execution_count": 142,
   "id": "7c55fb8e",
   "metadata": {},
   "outputs": [],
   "source": [
    "fourteen_page_field(browser)"
   ]
  },
  {
   "cell_type": "code",
   "execution_count": 29,
   "id": "289173d6",
   "metadata": {},
   "outputs": [],
   "source": [
    "fif1 = 4"
   ]
  },
  {
   "cell_type": "code",
   "execution_count": 30,
   "id": "6c5e0ff8",
   "metadata": {},
   "outputs": [],
   "source": [
    "def fifteen_page_field(browser, fif1):\n",
    "    # 귀사는 정보화 추진을 위한 업무혁신을 어느 정도로 하고 있습니까?\n",
    "    \n",
    "    if fif1 == 1:\n",
    "        find_id('objC5_1', browser).click()\n",
    "    elif fif1 == 2:\n",
    "        find_id('objC5_2', browser).click()\n",
    "    elif fif1 == 3:\n",
    "        find_id('objC5_3', browser).click()\n",
    "    elif fif1 == 4:\n",
    "        find_id('objC5_4', browser).click()\n",
    "    elif fif1 == 5:\n",
    "        find_id('objC5_5', browser).click()\n",
    "        \n",
    "    time.sleep(.5)\n",
    "    find_id('BtnNextPage', browser).click()"
   ]
  },
  {
   "cell_type": "code",
   "execution_count": 146,
   "id": "4fe536e6",
   "metadata": {},
   "outputs": [],
   "source": [
    "fifteen_page_field(browser, fif1)"
   ]
  },
  {
   "cell_type": "code",
   "execution_count": 31,
   "id": "991be049",
   "metadata": {},
   "outputs": [],
   "source": [
    "sixteen1 = 3"
   ]
  },
  {
   "cell_type": "code",
   "execution_count": 32,
   "id": "432d5610",
   "metadata": {},
   "outputs": [],
   "source": [
    "def sixteen_page_field(browser, sixteen1):\n",
    "    # 귀사는 정보보안 계획을 수립하여 실행하고 있습니까?\n",
    "    if sixteen1 == 1:\n",
    "        find_id('objC6_1', browser).click()\n",
    "    elif sixteen1 == 2:\n",
    "        find_id('objC6_2', browser).click()\n",
    "    elif sixteen1 == 3:\n",
    "        find_id('objC6_3', browser).click()\n",
    "    elif sixteen1 == 4:\n",
    "        find_id('objC6_4', browser).click()\n",
    "    elif sixteen1 == 5:\n",
    "        find_id('objC6_5', browser).click()\n",
    "        \n",
    "    time.sleep(.5)\n",
    "    find_id('BtnNextPage', browser).click()"
   ]
  },
  {
   "cell_type": "code",
   "execution_count": 150,
   "id": "78303726",
   "metadata": {},
   "outputs": [],
   "source": [
    "sixteen_page_field(browser, sixteen1)"
   ]
  },
  {
   "cell_type": "code",
   "execution_count": 33,
   "id": "362c55c2",
   "metadata": {},
   "outputs": [],
   "source": [
    "spf1 = 1\n",
    "spf2 = 1\n",
    "spf3 = 1\n",
    "spf4 = 1\n",
    "spf5 = 1\n",
    "spf6 = 1"
   ]
  },
  {
   "cell_type": "code",
   "execution_count": 34,
   "id": "68bd45a3",
   "metadata": {},
   "outputs": [],
   "source": [
    "def seventeen_page_field(browser, spf1, spf2, spf3, spf4, spf5, spf6):\n",
    "    # 다음은 정보보안 인식 및 시스템 수누에 대한 문항\n",
    "    # 해당 필요여부\n",
    "    \n",
    "    if spf1 == 1:\n",
    "        find_id('objC7_1_1_1', browser).click()\n",
    "    elif spf1 == 2:\n",
    "        find_id('objC7_1_1_2', browser).click()\n",
    "    \n",
    "    if spf2 == 1:\n",
    "        find_id('objC7_1_2_1', browser).click()\n",
    "    elif spf2 == 2:\n",
    "        find_id('objC7_1_2_2', browser).click()\n",
    "    \n",
    "    if spf3 == 1:\n",
    "        find_id('objC7_1_3_1', browser).click()\n",
    "    elif spf3 == 2:\n",
    "        find_id('objC7_1_3_2', browser).click()\n",
    "    \n",
    "    if spf4 == 1:\n",
    "        find_id('objC7_1_4_1', browser).click()\n",
    "    elif spf4 == 2:\n",
    "        find_id('objC7_1_4_2', browser).click()\n",
    "    \n",
    "    if spf5 == 1:\n",
    "        find_id('objC7_1_5_1', browser).click()\n",
    "    elif spf5 == 2:\n",
    "        find_id('objC7_1_5_2', browser).click()\n",
    "        \n",
    "    if spf6 == 1:\n",
    "        find_id('objC7_1_6_1', browser).click()\n",
    "    elif spf6 == 2:\n",
    "        find_id('objC7_1_6_2', browser).click()\n",
    "        \n",
    "    time.sleep(.5)\n",
    "    find_id('BtnNextPage', browser).click()"
   ]
  },
  {
   "cell_type": "code",
   "execution_count": 163,
   "id": "a2985e73",
   "metadata": {},
   "outputs": [],
   "source": [
    "seventeen_page_field(browser, spf1, spf2, spf3, spf4, spf5, spf6)"
   ]
  },
  {
   "cell_type": "code",
   "execution_count": 35,
   "id": "cdf307ad",
   "metadata": {},
   "outputs": [],
   "source": [
    "epf1 = 1\n",
    "epf2 = 1\n",
    "epf3 = 1\n",
    "epf4 = 1\n",
    "epf5 = 1\n",
    "epf6 = 2"
   ]
  },
  {
   "cell_type": "code",
   "execution_count": 36,
   "id": "58563d25",
   "metadata": {},
   "outputs": [],
   "source": [
    "def eighteen_page_field(browser, epf1, epf2, epf3, epf4, epf5, epf6):\n",
    "    # 다음은 정보보안 인식 및 시스템 수누에 대한 문항\n",
    "    # 도입 활용여부\n",
    "    \n",
    "    if epf1 == 1:\n",
    "        find_id('objC7_2_1_1', browser).click()\n",
    "    elif epf1 == 2:\n",
    "        find_id('objC7_2_1_2', browser).click()\n",
    "    \n",
    "    if epf2 == 1:\n",
    "        find_id('objC7_2_2_1', browser).click()\n",
    "    elif epf2 == 2:\n",
    "        find_id('objC7_2_2_2', browser).click()\n",
    "    \n",
    "    if epf3 == 1:\n",
    "        find_id('objC7_2_3_1', browser).click()\n",
    "    elif epf3 == 2:\n",
    "        find_id('objC7_2_3_2', browser).click()\n",
    "    \n",
    "    if epf4 == 1:\n",
    "        find_id('objC7_2_4_1', browser).click()\n",
    "    elif epf4 == 2:\n",
    "        find_id('objC7_2_4_2', browser).click()\n",
    "    \n",
    "    if epf5 == 1:\n",
    "        find_id('objC7_2_5_1', browser).click()\n",
    "    elif epf5 == 2:\n",
    "        find_id('objC7_2_5_2', browser).click()\n",
    "        \n",
    "    if epf6 == 1:\n",
    "        find_id('objC7_2_6_1', browser).click()\n",
    "    elif epf6 == 2:\n",
    "        find_id('objC7_2_6_2', browser).click()\n",
    "        \n",
    "    time.sleep(.5)\n",
    "    find_id('BtnNextPage', browser).click()"
   ]
  },
  {
   "cell_type": "code",
   "execution_count": 175,
   "id": "9daf94d0",
   "metadata": {},
   "outputs": [],
   "source": [
    "eighteen_page_field(browser, epf1, epf2, epf3, epf4, epf5, epf6)"
   ]
  },
  {
   "cell_type": "code",
   "execution_count": 37,
   "id": "b80a9f03",
   "metadata": {},
   "outputs": [],
   "source": [
    "npf1 = 1"
   ]
  },
  {
   "cell_type": "code",
   "execution_count": 38,
   "id": "071de550",
   "metadata": {},
   "outputs": [],
   "source": [
    "def nineteen_page_field(browser, npf1):\n",
    "    if npf1 == 1:\n",
    "        find_id('objC7_3_6_1', browser).click()\n",
    "    elif npf1 == 2:\n",
    "        find_id('objC7_3_6_2', browser).click()\n",
    "        \n",
    "    time.sleep(.5)\n",
    "    find_id('BtnNextPage', browser).click()"
   ]
  },
  {
   "cell_type": "code",
   "execution_count": 181,
   "id": "f077881c",
   "metadata": {},
   "outputs": [],
   "source": [
    "nineteen_page_field(browser, npf1)"
   ]
  },
  {
   "cell_type": "code",
   "execution_count": 39,
   "id": "8a49a675",
   "metadata": {},
   "outputs": [],
   "source": [
    "twenty1 = 6\n",
    "twenty2 = 3\n",
    "twenty3 = 4"
   ]
  },
  {
   "cell_type": "code",
   "execution_count": 40,
   "id": "72277a37",
   "metadata": {},
   "outputs": [],
   "source": [
    "def twenty_page_field(browser, twenty1, twenty2, twenty3):\n",
    "    result_t = 0\n",
    "    \n",
    "    if twenty1 == 1:\n",
    "        find_id('objC8_1_1', browser).click()\n",
    "        result_t = 2\n",
    "    elif twenty1 == 2:\n",
    "        find_id('objC8_1_2', browser).click()\n",
    "        result_t = 2\n",
    "    elif twenty1 == 3:\n",
    "        find_id('objC8_1_3', browser).click()\n",
    "    elif twenty1 == 4:\n",
    "        find_id('objC8_1_4', browser).click()\n",
    "    elif twenty1 == 5:\n",
    "        find_id('objC8_1_5', browser).click()\n",
    "    elif twenty1 == 6:\n",
    "        find_id('objC8_1_9', browser).click()\n",
    "\n",
    "    if twenty2 == 1:\n",
    "        find_id('objC8_2_1', browser).click()\n",
    "        result_t = 2\n",
    "    elif twenty2 == 2:\n",
    "        find_id('objC8_2_2', browser).click()\n",
    "        result_t = 2\n",
    "    elif twenty2 == 3:\n",
    "        find_id('objC8_2_3', browser).click()\n",
    "    elif twenty2 == 4:\n",
    "        find_id('objC8_2_4', browser).click()\n",
    "    elif twenty2 == 5:\n",
    "        find_id('objC8_2_5', browser).click()\n",
    "    elif twenty2 == 6:\n",
    "        find_id('objC8_2_9', browser).click()\n",
    "\n",
    "    if twenty3 == 1:\n",
    "        find_id('objC8_3_1', browser).click()\n",
    "        result_t = 2\n",
    "    elif twenty3 == 2:\n",
    "        find_id('objC8_3_2', browser).click()\n",
    "        result_t = 2\n",
    "    elif twenty3 == 3:\n",
    "        find_id('objC8_3_3', browser).click()\n",
    "    elif twenty3 == 4:\n",
    "        find_id('objC8_3_4', browser).click()\n",
    "    elif twenty3 == 5:\n",
    "        find_id('objC8_3_5', browser).click()\n",
    "    elif twenty3 == 6:\n",
    "        find_id('objC8_3_9', browser).click()\n",
    "\n",
    "    time.sleep(.5)\n",
    "    find_id('BtnNextPage', browser).click()\n",
    "    \n",
    "    return result_t"
   ]
  },
  {
   "cell_type": "code",
   "execution_count": 214,
   "id": "9b008ec8",
   "metadata": {},
   "outputs": [],
   "source": [
    "result_t = twenty_page_field(browser, twenty1, twenty2, twenty3)"
   ]
  },
  {
   "cell_type": "code",
   "execution_count": 215,
   "id": "915c843d",
   "metadata": {},
   "outputs": [
    {
     "name": "stdout",
     "output_type": "stream",
     "text": [
      "0\n"
     ]
    }
   ],
   "source": [
    "print(result_t)"
   ]
  },
  {
   "cell_type": "code",
   "execution_count": 41,
   "id": "c3171bf4",
   "metadata": {},
   "outputs": [],
   "source": [
    "def twentyone_page_field(browser):\n",
    "    find_id('objC8_1a_1', browser).click()\n",
    "    find_id('objC8_1a_2', browser).click()\n",
    "    find_id('objC8_1a_3', browser).click()\n",
    "    find_id('objC8_1a_4', browser).click()\n",
    "    find_id('objC8_1a_5', browser).click()\n",
    "    \n",
    "    time.sleep(.5)\n",
    "    find_id('BtnNextPage', browser).click()"
   ]
  },
  {
   "cell_type": "code",
   "execution_count": 43,
   "id": "a2e30cb3",
   "metadata": {},
   "outputs": [],
   "source": [
    "if result_t == 2:\n",
    "    twentyone_page_field(browser)"
   ]
  },
  {
   "cell_type": "code",
   "execution_count": 42,
   "id": "c00d2edd",
   "metadata": {},
   "outputs": [],
   "source": [
    "def twentytwo_page_field(browser, ):\n",
    "    # 귀사에서는 지난 1년중 모바일기기와 무선인터넷 등을 활용한 모바일 오피스를 이용하셨습니까?\n",
    "    ## 이용하지 않음\n",
    "    find_id('objD1_10', browser).click()\n",
    "    ## 영업 및 고객관리\n",
    "    find_id('objD1_1', browser).click()\n",
    "    ## 구매(전자지불 포함)\n",
    "    find_id('objD1_2', browser).click()\n",
    "    ## 판매(전자결제포함)\n",
    "    find_id('objD1_3', browser).click()\n",
    "    ## 매장운영 및 관리\n",
    "    find_id('objD1_4', browser).click()\n",
    "    ## 생산 및 공정관리\n",
    "    find_id('objD1_5', browser).click()\n",
    "    ## 물류 운송관리\n",
    "    find_id('objD1_6', browser).click()\n",
    "    ## 사내 그룹웨어 연동 (전자결재 공람 메일확인 등)\n",
    "    find_id('objD1_7', browser).click()\n",
    "    ## 비대면 기술(재택 및 원격 근무, 영상회의 등)\n",
    "    find_id('objD1_8', browser).click()\n",
    "    \n",
    "    time.sleep(.5)\n",
    "    find_id('BtnNextPage', browser).click()"
   ]
  },
  {
   "cell_type": "code",
   "execution_count": 46,
   "id": "48973cf5",
   "metadata": {},
   "outputs": [],
   "source": [
    "twentytwo_page_field(browser)"
   ]
  },
  {
   "cell_type": "code",
   "execution_count": 43,
   "id": "57662dca",
   "metadata": {},
   "outputs": [],
   "source": [
    "def twentythree_page_field(browser, ):\n",
    "    # 귀사에서는 지난 1년중 모바일기기와 무선인터넷 등을 활용한 모바일 오피스를 이용하셨습니까?\n",
    "    ## 이용하지 않음\n",
    "    find_id('objD2_10', browser).click()\n",
    "    ## 영업 및 고객관리\n",
    "    find_id('objD2_1', browser).click()\n",
    "    ## 구매(전자지불 포함)\n",
    "    find_id('objD2_2', browser).click()\n",
    "    ## 판매(전자결제포함)\n",
    "    find_id('objD2_3', browser).click()\n",
    "    ## 매장운영 및 관리\n",
    "    find_id('objD2_4', browser).click()\n",
    "    ## 생산 및 공정관리\n",
    "    find_id('objD2_5', browser).click()\n",
    "    ## 물류 운송관리\n",
    "    find_id('objD2_6', browser).click()\n",
    "    ## 사내 그룹웨어 연동 (전자결재 공람 메일확인 등)\n",
    "    find_id('objD2_7', browser).click()\n",
    "    ## 비대면 기술(재택 및 원격 근무, 영상회의 등)\n",
    "    find_id('objD2_8', browser).click()\n",
    "    \n",
    "    time.sleep(.5)\n",
    "    find_id('BtnNextPage', browser).click()"
   ]
  },
  {
   "cell_type": "code",
   "execution_count": 49,
   "id": "215e28e6",
   "metadata": {},
   "outputs": [],
   "source": [
    "twentythree_page_field(browser)"
   ]
  },
  {
   "cell_type": "code",
   "execution_count": 44,
   "id": "b49b14bf",
   "metadata": {},
   "outputs": [],
   "source": [
    "tfpf = 4"
   ]
  },
  {
   "cell_type": "code",
   "execution_count": 45,
   "id": "054bf075",
   "metadata": {},
   "outputs": [],
   "source": [
    "def twentyfour_page_field(browser, tfpf):\n",
    "    if tfpf == 1:\n",
    "        ## 이용하지 않았고, 도입 계획도 없음\n",
    "        find_id('objD3_1', browser).click()\n",
    "    elif tfpf == 2:\n",
    "        ## 이용할 의사는 있지만 ,2년 내 도입할 계획 없음\n",
    "        find_id('objD3_2', browser).click()\n",
    "    elif tfpf == 3:\n",
    "        ## 2년 내 도입할 계획이 있음\n",
    "        find_id('objD3_3', browser).click()\n",
    "    elif tfpf == 4:\n",
    "        ## 이용하고 있음\n",
    "        find_id('objD3_4', browser).click()\n",
    "        \n",
    "    time.sleep(.5)\n",
    "    find_id('BtnNextPage', browser).click()"
   ]
  },
  {
   "cell_type": "code",
   "execution_count": 53,
   "id": "5394efdf",
   "metadata": {},
   "outputs": [],
   "source": [
    "twentyfour_page_field(browser, tfpf)"
   ]
  },
  {
   "cell_type": "code",
   "execution_count": 46,
   "id": "c9737630",
   "metadata": {},
   "outputs": [],
   "source": [
    "tfive1 = 9\n",
    "tfive2 = 3\n",
    "tfive3 = 9\n",
    "tfive4 = 3\n",
    "tfive5 = 3\n",
    "tfive6 = 3\n",
    "tfive7 = 3\n",
    "tfive8 = 9\n",
    "tfive9 = 3\n",
    "tfive10 = 3\n",
    "tfive11 = 3\n",
    "tfive12 = 3\n",
    "tfive13 = 3\n",
    "tfive14 = 3\n",
    "tfive15 = 3\n",
    "tfive16 = 3\n",
    "tfive17 = 3\n",
    "tfive18 = 9\n",
    "tfive19 = 3\n",
    "tfive20 = 3\n",
    "tfive21 = 3\n",
    "\n",
    "t2five1 = 3\n",
    "t2five2 = 3\n",
    "t2five3 = 3\n",
    "t2five4 = 3\n",
    "t2five5 = 3\n",
    "t2five6 = 3\n",
    "t2five7 = 3\n",
    "t2five8 = 3\n",
    "t2five9 = 3\n",
    "t2five10 = 3\n",
    "t2five11 = 3\n",
    "t2five12 = 3\n",
    "t2five13 = 3\n",
    "t2five14 = 3\n",
    "t2five15 = 3\n",
    "t2five16 = 3\n",
    "t2five17 = 3\n",
    "t2five18 = 3\n",
    "t2five19 = 3\n",
    "t2five20 = 3\n",
    "t2five21 = 3\n",
    "\n",
    "t3five1 = 0\n",
    "t3five2 = 1\n",
    "t3five3 = 0\n",
    "t3five4 = 1\n",
    "t3five5 = 3\n",
    "t3five6 = 3\n",
    "t3five7 = 1\n",
    "t3five8 = 0\n",
    "t3five9 = 2\n",
    "t3five10 = 1"
   ]
  },
  {
   "cell_type": "code",
   "execution_count": 47,
   "id": "e48c0221",
   "metadata": {},
   "outputs": [],
   "source": [
    "def twentyfive_page_field(browser, \n",
    "    tfive1,tfive2,tfive3,tfive4,tfive5,tfive6,tfive7,tfive8,tfive9, tfive10,tfive11,\n",
    "    tfive12,tfive13,tfive14,tfive15,tfive16,tfive17,tfive18, tfive19, tfive20, tfive21,\n",
    "    t2five1,t2five2,t2five3,t2five4,t2five5,t2five6,t2five7,t2five8,t2five9,t2five10,t2five11,\n",
    "    t2five12,t2five13,t2five14,t2five15,t2five16,t2five17,t2five18,t2five19,t2five20,t2five21,\n",
    "    t3five1,t3five2,t3five3,t3five4,t3five5,t3five6,t3five7,t3five8,t3five9,t3five10):\n",
    "    counters = [0, 0, 0, 0, 0, 0, 0, 0, 0, 0, 0, 0, 0, 0, 0, 0, 0, 0, 0, 0, 0]\n",
    "    \n",
    "    \n",
    "    for i, tfive in enumerate([tfive1,tfive2,tfive3,tfive4,tfive5,tfive6,tfive7,tfive8,tfive9, tfive10,tfive11,tfive12,tfive13,tfive14,tfive15,tfive16,tfive17,tfive18, tfive19, tfive20, tfive21], start=1):\n",
    "        count = counters[i-1]  \n",
    "        obj_id = f'objD4a_{i}_{9 if tfive == 1 else tfive}' \n",
    "        find_id(obj_id, browser).click()  \n",
    "        if 3 <= tfive <= 5:\n",
    "            counters[i-1] += 1\n",
    "    \n",
    "    time.sleep(1)\n",
    "    find_id('BtnNextPage', browser).click()\n",
    "    \n",
    "    try:\n",
    "        time.sleep(1)\n",
    "        find_name('jqi_state0_buttonsysLngFrmChk002', browser).click()\n",
    "        time.sleep(1)\n",
    "        find_id('BtnNextPage', browser).click()\n",
    "    except:\n",
    "        pass\n",
    "    \n",
    "    for count, tfive in zip(counters, enumerate([t2five1,t2five2,t2five3,t2five4,t2five5,t2five6,t2five7,t2five8,t2five9,t2five10,t2five11,t2five12,t2five13,t2five14,t2five15,t2five16,t2five17,t2five18,t2five19,t2five20,t2five21], start=1)):\n",
    "        if count != 0:\n",
    "            count = counters[tfive[0]-1] \n",
    "            obj_id = f'objD4b_{tfive[0]}_{9 if tfive[1] == 1 else tfive[1]}'  \n",
    "            find_id(obj_id, browser).click()  \n",
    "    \n",
    "    time.sleep(1)\n",
    "    find_id('BtnNextPage', browser).click()\n",
    "    \n",
    "    try:\n",
    "        time.sleep(1)\n",
    "        find_name('jqi_state0_buttonsysLngFrmChk002', browser).click()\n",
    "        time.sleep(1)\n",
    "        find_id('BtnNextPage', browser).click()\n",
    "    except:\n",
    "        pass\n",
    "    \n",
    "    for i, t3five in enumerate([t3five1,t3five2,t3five3,t3five4,t3five5,t3five6,t3five7,t3five8,t3five9,t3five10], start=1):\n",
    "        if t3five != 0:\n",
    "            obj_id = f'objD4c_{i}_{t3five}'  \n",
    "            find_id(obj_id, browser).click()  \n",
    "            \n",
    "    time.sleep(1)\n",
    "    find_id('BtnNextPage', browser).click()\n",
    "    \n",
    "    try:\n",
    "        time.sleep(1)\n",
    "        find_name('jqi_state0_buttonsysLngFrmChk002', browser).click()\n",
    "        time.sleep(1)\n",
    "        find_id('BtnNextPage', browser).click()\n",
    "    except:\n",
    "        pass"
   ]
  },
  {
   "cell_type": "code",
   "execution_count": 215,
   "id": "60f60add",
   "metadata": {},
   "outputs": [],
   "source": [
    "twentyfive_page_field(browser, \n",
    "    tfive1,tfive2,tfive3,tfive4,tfive5,tfive6,tfive7,tfive8,tfive9, tfive10,tfive11,\n",
    "    tfive12,tfive13,tfive14,tfive15,tfive16,tfive17,tfive18, tfive19, tfive20, tfive21,\n",
    "    t2five1,t2five2,t2five3,t2five4,t2five5,t2five6,t2five7,t2five8,t2five9,t2five10,t2five11,\n",
    "    t2five12,t2five13,t2five14,t2five15,t2five16,t2five17,t2five18,t2five19,t2five20,t2five21,\n",
    "    t3five1,t3five2,t3five3,t3five4,t3five5,t3five6,t3five7,t3five8,t3five9,t3five10)"
   ]
  },
  {
   "cell_type": "code",
   "execution_count": 48,
   "id": "f72a8015",
   "metadata": {},
   "outputs": [],
   "source": [
    "tsix = 3"
   ]
  },
  {
   "cell_type": "code",
   "execution_count": 54,
   "id": "3a44d927",
   "metadata": {},
   "outputs": [],
   "source": [
    "def twentysix_page_field(browser, tsix):\n",
    "    find_id('objD5_9', browser).click()\n",
    "    find_id('objD5_1', browser).click()\n",
    "    find_id('objD5_3', browser).click()\n",
    "    find_id('objD5_4', browser).click()\n",
    "    find_id('objD5_5', browser).click()\n",
    "    find_id('objD5_6', browser).click()\n",
    "    \n",
    "    time.sleep(.5)\n",
    "    find_id('BtnNextPage', browser).click()"
   ]
  },
  {
   "cell_type": "code",
   "execution_count": 55,
   "id": "00c945cd",
   "metadata": {},
   "outputs": [],
   "source": [
    "twentysix_page_field(browser, tsix)"
   ]
  },
  {
   "cell_type": "code",
   "execution_count": 59,
   "id": "0d6d5e99",
   "metadata": {},
   "outputs": [],
   "source": [
    "tseven = 3"
   ]
  },
  {
   "cell_type": "code",
   "execution_count": 62,
   "id": "00a95b64",
   "metadata": {},
   "outputs": [],
   "source": [
    "def twentyseven_page_field(browser, tseven):\n",
    "    if tseven == 1:\n",
    "        find_id('objT1_1', browser).click()\n",
    "    elif tseven == 2:\n",
    "        find_id('objT1_2', browser).click()\n",
    "    elif tseven == 3:\n",
    "        find_id('objT1_3', browser).click()\n",
    "    elif tseven == 4:\n",
    "        find_id('objT1_4', browser).click()\n",
    "    elif tseven == 5:\n",
    "        find_id('objT1_5', browser).click()\n",
    "    elif tseven == 6:\n",
    "        find_id('objT1_6', browser).click()\n",
    "    \n",
    "    time.sleep(.5)\n",
    "    find_id('BtnNextPage', browser).click()"
   ]
  },
  {
   "cell_type": "code",
   "execution_count": 63,
   "id": "0d108658",
   "metadata": {},
   "outputs": [],
   "source": [
    "twentyseven_page_field(browser, tseven)"
   ]
  },
  {
   "cell_type": "code",
   "execution_count": 65,
   "id": "78f28adc",
   "metadata": {},
   "outputs": [],
   "source": [
    "teight = 4"
   ]
  },
  {
   "cell_type": "code",
   "execution_count": 66,
   "id": "4811e7cc",
   "metadata": {},
   "outputs": [],
   "source": [
    "def twentyeight_page_field(browser, teight):\n",
    "    if teight == 1:\n",
    "        find_id('objT2_1', browser).click()\n",
    "        elif teight == 2:\n",
    "        find_id('objT2_2', browser).click()\n",
    "    elif teight == 3:\n",
    "        find_id('objT2_3', browser).click()\n",
    "    elif teight == 4:\n",
    "        find_id('objT2_4', browser).click()\n",
    "    elif teight == 5:\n",
    "        find_id('objT2_5', browser).click()\n",
    "    elif teight == 6:\n",
    "        find_id('objT2_6', browser).click()\n",
    "    \n",
    "    time.sleep(.5)\n",
    "    find_id('BtnNextPage', browser).click()"
   ]
  },
  {
   "cell_type": "code",
   "execution_count": 68,
   "id": "162475fb",
   "metadata": {},
   "outputs": [],
   "source": [
    "twentyeight_page_field(browser, teight)"
   ]
  },
  {
   "cell_type": "code",
   "execution_count": 69,
   "id": "30b86137",
   "metadata": {},
   "outputs": [],
   "source": [
    "tnine = 4"
   ]
  },
  {
   "cell_type": "code",
   "execution_count": 70,
   "id": "52bd4771",
   "metadata": {},
   "outputs": [],
   "source": [
    "def twentynine_page_field(browser, tnine):\n",
    "    if teight == 1:\n",
    "        find_id('objT3_1', browser).click()\n",
    "    elif teight == 2:\n",
    "        find_id('objT3_2', browser).click()\n",
    "    elif teight == 3:\n",
    "        find_id('objT3_3', browser).click()\n",
    "    elif teight == 4:\n",
    "        find_id('objT3_4', browser).click()\n",
    "    elif teight == 5:\n",
    "        find_id('objT3_5', browser).click()\n",
    "    \n",
    "    time.sleep(.5)\n",
    "    find_id('BtnNextPage', browser).click()"
   ]
  },
  {
   "cell_type": "code",
   "execution_count": 71,
   "id": "14439e3b",
   "metadata": {},
   "outputs": [],
   "source": [
    "twentynine_page_field(browser, tnine)"
   ]
  },
  {
   "cell_type": "code",
   "execution_count": 74,
   "id": "eb86f362",
   "metadata": {},
   "outputs": [],
   "source": [
    "thirty = 4"
   ]
  },
  {
   "cell_type": "code",
   "execution_count": 76,
   "id": "bb88ddd2",
   "metadata": {},
   "outputs": [],
   "source": [
    "def thirty_page_field(browser, thirty):\n",
    "    if teight == 1:\n",
    "        find_id('objT4_1', browser).click()\n",
    "    elif teight == 2:\n",
    "        find_id('objT4_2', browser).click()\n",
    "    elif teight == 3:\n",
    "        find_id('objT4_3', browser).click()\n",
    "    elif teight == 4:\n",
    "        find_id('objT4_4', browser).click()\n",
    "    elif teight == 5:\n",
    "        find_id('objT4_5', browser).click()\n",
    "    \n",
    "    time.sleep(.5)\n",
    "    find_id('BtnNextPage', browser).click()"
   ]
  },
  {
   "cell_type": "code",
   "execution_count": 77,
   "id": "f61a82bb",
   "metadata": {},
   "outputs": [],
   "source": [
    "thirty_page_field(browser, thirty)"
   ]
  },
  {
   "cell_type": "code",
   "execution_count": 78,
   "id": "e40a2bfb",
   "metadata": {},
   "outputs": [],
   "source": [
    "tyone = 4"
   ]
  },
  {
   "cell_type": "code",
   "execution_count": 83,
   "id": "a215f7ca",
   "metadata": {},
   "outputs": [],
   "source": [
    "def thirtyone_page_field(browser, tyone):\n",
    "    tyonecount = 0\n",
    "    \n",
    "    if teight == 1:\n",
    "        find_id('objT5_1', browser).click()\n",
    "    elif teight == 2:\n",
    "        find_id('objT5_2', browser).click()\n",
    "    elif teight == 3:\n",
    "        find_id('objT5_3', browser).click()\n",
    "        tyonecount += 1\n",
    "    elif teight == 4:\n",
    "        find_id('objT5_4', browser).click()\n",
    "        tyonecount += 1\n",
    "    elif teight == 5:\n",
    "        find_id('objT5_5', browser).click()\n",
    "        tyonecount += 1\n",
    "    \n",
    "    time.sleep(.5)\n",
    "    find_id('BtnNextPage', browser).click()\n",
    "    \n",
    "    return tyonecount"
   ]
  },
  {
   "cell_type": "code",
   "execution_count": 85,
   "id": "5df493aa",
   "metadata": {},
   "outputs": [],
   "source": [
    "tyonecount = thirtyone_page_field(browser, tyone)"
   ]
  },
  {
   "cell_type": "code",
   "execution_count": 88,
   "id": "15c5bb5b",
   "metadata": {},
   "outputs": [],
   "source": [
    "def thirtytwo_page_field(browser, ):\n",
    "    find_id('objT5_1_1', browser).click()\n",
    "    find_id('objT5_1_2', browser).click()\n",
    "    find_id('objT5_1_3', browser).click()\n",
    "    find_id('objT5_1_4', browser).click()\n",
    "    find_id('objT5_1_5', browser).click()\n",
    "    find_id('objT5_1_6', browser).click()\n",
    "    \n",
    "    time.sleep(.5)\n",
    "    find_id('BtnNextPage', browser).click()"
   ]
  },
  {
   "cell_type": "code",
   "execution_count": 89,
   "id": "30cd5cfd",
   "metadata": {},
   "outputs": [],
   "source": [
    "if tyonecount == 1:\n",
    "    thirtytwo_page_field(browser)"
   ]
  },
  {
   "cell_type": "code",
   "execution_count": 90,
   "id": "af68ffb5",
   "metadata": {},
   "outputs": [],
   "source": [
    "def thirtythree_page_field(browser, ):\n",
    "    find_id('objT6_1', browser).click()\n",
    "    find_id('objT6_2', browser).click()\n",
    "    find_id('objT6_3', browser).click()\n",
    "    find_id('objT6_4', browser).click()\n",
    "    find_id('objT6_5', browser).click()\n",
    "    \n",
    "    time.sleep(.5)\n",
    "    find_id('BtnNextPage', browser).click()"
   ]
  },
  {
   "cell_type": "code",
   "execution_count": 91,
   "id": "d08c974a",
   "metadata": {},
   "outputs": [],
   "source": [
    "thirtythree_page_field(browser, )"
   ]
  },
  {
   "cell_type": "code",
   "execution_count": 92,
   "id": "6dbd323b",
   "metadata": {},
   "outputs": [],
   "source": [
    "tyfour = 3"
   ]
  },
  {
   "cell_type": "code",
   "execution_count": 95,
   "id": "dc19bd71",
   "metadata": {},
   "outputs": [],
   "source": [
    "def thirtyfour_page_field(browser, tyfour):\n",
    "    if tyfour == 1:\n",
    "        find_id('objT7_1', browser).click()\n",
    "    elif tyfour == 2:\n",
    "        find_id('objT7_2', browser).click()\n",
    "    elif tyfour == 3:\n",
    "        find_id('objT7_3', browser).click()\n",
    "    elif tyfour == 4:\n",
    "        find_id('objT7_4', browser).click()\n",
    "    elif tyfour == 5:\n",
    "        find_id('objT7_5', browser).click()\n",
    "        \n",
    "    time.sleep(.5)\n",
    "    find_id('BtnNextPage', browser).click()"
   ]
  },
  {
   "cell_type": "code",
   "execution_count": 96,
   "id": "7aadfaaf",
   "metadata": {},
   "outputs": [],
   "source": [
    "thirtyfour_page_field(browser, tyfour)"
   ]
  },
  {
   "cell_type": "code",
   "execution_count": 99,
   "id": "2c983d08",
   "metadata": {},
   "outputs": [],
   "source": [
    "tyfive = 4"
   ]
  },
  {
   "cell_type": "code",
   "execution_count": 103,
   "id": "18da17e6",
   "metadata": {},
   "outputs": [],
   "source": [
    "def thirtyfive_page_field(browser, tyfive):\n",
    "    if tyfive == 1:\n",
    "        find_id('objT8_1', browser).click()\n",
    "    elif tyfive == 2:\n",
    "        find_id('objT8_2', browser).click()\n",
    "    elif tyfive == 3:\n",
    "        find_id('objT8_3', browser).click()\n",
    "    elif tyfive == 4:\n",
    "        find_id('objT8_4', browser).click()\n",
    "    elif tyfive == 5:\n",
    "        find_id('objT8_5', browser).click()\n",
    "        \n",
    "    time.sleep(.5)\n",
    "    find_id('BtnNextPage', browser).click()"
   ]
  },
  {
   "cell_type": "code",
   "execution_count": 104,
   "id": "12f9d745",
   "metadata": {},
   "outputs": [],
   "source": [
    "thirtyfive_page_field(browser, tyfive)"
   ]
  },
  {
   "cell_type": "code",
   "execution_count": 107,
   "id": "a484c18c",
   "metadata": {},
   "outputs": [],
   "source": [
    "tysix = 3"
   ]
  },
  {
   "cell_type": "code",
   "execution_count": 113,
   "id": "5238cf79",
   "metadata": {},
   "outputs": [],
   "source": [
    "def thirtysix_page_field(browser, tysix):\n",
    "    if tysix == 1:\n",
    "        find_id('objT9_1', browser).click()\n",
    "    elif tysix == 2:\n",
    "        find_id('objT9_2', browser).click()\n",
    "    elif tysix == 3:\n",
    "        find_id('objT9_3', browser).click()\n",
    "    elif tysix == 4:\n",
    "        find_id('objT9_4', browser).click()\n",
    "    elif tysix == 5:\n",
    "        find_id('objT9_5', browser).click()\n",
    "        \n",
    "    time.sleep(.5)\n",
    "    find_id('BtnNextPage', browser).click()"
   ]
  },
  {
   "cell_type": "code",
   "execution_count": 114,
   "id": "1cb7d3af",
   "metadata": {},
   "outputs": [],
   "source": [
    "thirtysix_page_field(browser, tysix)"
   ]
  },
  {
   "cell_type": "code",
   "execution_count": 117,
   "id": "13ff9b08",
   "metadata": {},
   "outputs": [],
   "source": [
    "tyseven = 2"
   ]
  },
  {
   "cell_type": "code",
   "execution_count": 118,
   "id": "01a430d6",
   "metadata": {},
   "outputs": [],
   "source": [
    "def thirtyseven_page_field(browser, tyseven):\n",
    "    if tyseven == 1:\n",
    "        find_id('objT10_1', browser).click()\n",
    "    elif tyseven == 2:\n",
    "        find_id('objT10_2', browser).click()\n",
    "    elif tyseven == 3:\n",
    "        find_id('objT10_3', browser).click()\n",
    "    elif tyseven == 4:\n",
    "        find_id('objT10_4', browser).click()\n",
    "    elif tyseven == 5:\n",
    "        find_id('objT10_5', browser).click()\n",
    "        \n",
    "    time.sleep(.5)\n",
    "    find_id('BtnNextPage', browser).click()"
   ]
  },
  {
   "cell_type": "code",
   "execution_count": 120,
   "id": "e4971ed9",
   "metadata": {},
   "outputs": [],
   "source": [
    "thirtyseven_page_field(browser, tyseven)"
   ]
  },
  {
   "cell_type": "code",
   "execution_count": 131,
   "id": "68907295",
   "metadata": {},
   "outputs": [],
   "source": [
    "tyeight = 1\n",
    "tyeight2 = 3"
   ]
  },
  {
   "cell_type": "code",
   "execution_count": 133,
   "id": "d66c7506",
   "metadata": {},
   "outputs": [],
   "source": [
    "def thirtyeight_page_field(browser, tyeight, tyeight2):\n",
    "    if tyeight == 1:\n",
    "        find_id('objT11_1', browser).click()\n",
    "        time.sleep(1)\n",
    "        \n",
    "        if tyeight2 == 1:\n",
    "            find_id('objT11a_1', browser).click()\n",
    "        elif tyeight2 == 2:\n",
    "            find_id('objT11a_2', browser).click()\n",
    "        elif tyeight2 == 3:\n",
    "            find_id('objT11a_3', browser).click()\n",
    "        elif tyeight2 == 4:\n",
    "            find_id('objT11a_4', browser).click()\n",
    "        elif tyeight2 == 5:\n",
    "            find_id('objT11a_5', browser).click()\n",
    "        elif tyeight2 == 6:\n",
    "            find_id('objT11a_6', browser).click()\n",
    "        \n",
    "    elif tyeight == 2:\n",
    "        find_id('objT11_2', browser).click()\n",
    "        \n",
    "    time.sleep(.5)\n",
    "    find_id('BtnNextPage', browser).click()"
   ]
  },
  {
   "cell_type": "code",
   "execution_count": 134,
   "id": "f77e4d63",
   "metadata": {},
   "outputs": [],
   "source": [
    "thirtyeight_page_field(browser, tyeight, tyeight2)"
   ]
  },
  {
   "cell_type": "code",
   "execution_count": 136,
   "id": "f9418bb1",
   "metadata": {},
   "outputs": [],
   "source": [
    "tynine = 3"
   ]
  },
  {
   "cell_type": "code",
   "execution_count": 138,
   "id": "9b33d171",
   "metadata": {},
   "outputs": [],
   "source": [
    "def thirtynine_page_field(browser, tynine):\n",
    "    if tynine == 1:\n",
    "        find_id('objT12_1', browser).click()\n",
    "    elif tynine == 2:\n",
    "        find_id('objT12_2', browser).click()\n",
    "    elif tynine == 3:\n",
    "        find_id('objT12_3', browser).click()\n",
    "    elif tynine == 4:\n",
    "        find_id('objT12_4', browser).click()\n",
    "    elif tynine == 5:\n",
    "        find_id('objT12_5', browser).click()\n",
    "        \n",
    "    time.sleep(.5)\n",
    "    find_id('BtnNextPage', browser).click()"
   ]
  },
  {
   "cell_type": "code",
   "execution_count": 139,
   "id": "ce348af2",
   "metadata": {},
   "outputs": [],
   "source": [
    "thirtynine_page_field(browser, tynine)"
   ]
  },
  {
   "cell_type": "code",
   "execution_count": 140,
   "id": "623f50d6",
   "metadata": {},
   "outputs": [],
   "source": [
    "forty = 3"
   ]
  },
  {
   "cell_type": "code",
   "execution_count": 143,
   "id": "f62c2ef4",
   "metadata": {},
   "outputs": [],
   "source": [
    "def forty_page_field(browser, forty):\n",
    "    if forty == 1:\n",
    "        find_id('objT13_1', browser).click()\n",
    "    elif forty == 2:\n",
    "        find_id('objT13_2', browser).click()\n",
    "    elif forty == 3:\n",
    "        find_id('objT13_3', browser).click()\n",
    "    elif forty == 4:\n",
    "        find_id('objT13_4', browser).click()\n",
    "    elif forty == 5:\n",
    "        find_id('objT13_5', browser).click()\n",
    "        \n",
    "    time.sleep(.5)\n",
    "    find_id('BtnNextPage', browser).click()"
   ]
  },
  {
   "cell_type": "code",
   "execution_count": 145,
   "id": "7aa8a413",
   "metadata": {},
   "outputs": [],
   "source": [
    "forty_page_field(browser, forty)"
   ]
  },
  {
   "cell_type": "code",
   "execution_count": 189,
   "id": "c5a29b29",
   "metadata": {},
   "outputs": [],
   "source": [
    "fyone1 = 4\n",
    "fyone2 = 3\n",
    "fyone3 = 2"
   ]
  },
  {
   "cell_type": "code",
   "execution_count": 190,
   "id": "e1009202",
   "metadata": {},
   "outputs": [],
   "source": [
    "def fortyone_page_field(browser, fyone1, fyone2, fyone3):\n",
    "    list_fyone = [fyone1, fyone2, fyone3]\n",
    "    for fyone in list_fyone:\n",
    "        if fyone == 1:\n",
    "            find_id('objT14_1', browser).click()\n",
    "        elif fyone == 2:\n",
    "            find_id('objT14_2', browser).click()\n",
    "        elif fyone == 3:\n",
    "            find_id('objT14_3', browser).click()\n",
    "        elif fyone == 4:\n",
    "            find_id('objT14_4', browser).click()\n",
    "        elif fyone == 5:\n",
    "            find_id('objT14_5', browser).click()\n",
    "        elif fyone == 6:\n",
    "            find_id('objT14_6', browser).click()\n",
    "        elif fyone == 7:\n",
    "            find_id('objT14_7', browser).click()\n",
    "            \n",
    "    time.sleep(.5)\n",
    "    find_id('BtnNextPage', browser).click()"
   ]
  },
  {
   "cell_type": "code",
   "execution_count": 191,
   "id": "9c172e78",
   "metadata": {},
   "outputs": [],
   "source": [
    "fortyone_page_field(browser, fyone1, fyone2, fyone3)"
   ]
  },
  {
   "cell_type": "code",
   "execution_count": 195,
   "id": "5d9474eb",
   "metadata": {},
   "outputs": [],
   "source": [
    "fytwo1 = 5\n",
    "fytwo2 = 1\n",
    "fytwo3 = 3"
   ]
  },
  {
   "cell_type": "code",
   "execution_count": 198,
   "id": "821c77e8",
   "metadata": {},
   "outputs": [],
   "source": [
    "def fortytwo_page_field(browser, fytwo1, fytwo2, fytwo3):\n",
    "    list_fytwo = [fytwo1, fytwo2, fytwo3]\n",
    "    \n",
    "    for fytwo in list_fytwo:\n",
    "        if fytwo == 1:\n",
    "            find_id('objT15_1', browser).click()\n",
    "        elif fytwo == 2:\n",
    "            find_id('objT15_2', browser).click()\n",
    "        elif fytwo == 3:\n",
    "            find_id('objT15_3', browser).click()\n",
    "        elif fytwo == 4:\n",
    "            find_id('objT15_4', browser).click()\n",
    "        elif fytwo == 5:\n",
    "            find_id('objT15_5', browser).click()\n",
    "            \n",
    "    time.sleep(.5)\n",
    "    find_id('BtnNextPage', browser).click()"
   ]
  },
  {
   "cell_type": "code",
   "execution_count": 199,
   "id": "8024081d",
   "metadata": {},
   "outputs": [],
   "source": [
    "fortytwo_page_field(browser, fytwo1, fytwo2, fytwo3)"
   ]
  },
  {
   "cell_type": "code",
   "execution_count": 200,
   "id": "5adeaf56",
   "metadata": {},
   "outputs": [],
   "source": [
    "name = '테스트'\n",
    "company_name = '테스트회사'\n",
    "pos = '직급'\n",
    "email = 'example_email@example.com'\n",
    "tel = '010-0000-0000'"
   ]
  },
  {
   "cell_type": "code",
   "execution_count": 202,
   "id": "a5eac42d",
   "metadata": {},
   "outputs": [],
   "source": [
    "def final_page_field(browser, name, company_name, pos, email, tel):\n",
    "    if name != 0:\n",
    "        find_id('objDQ1', browser).send_keys(name)\n",
    "    if company_name != 0:\n",
    "        find_id('objDQ2', browser).send_keys(company_name)\n",
    "    if pos != 0:\n",
    "        find_id('objDQ3', browser).send_keys(pos)\n",
    "    if email != 0:\n",
    "        find_id('objDQ4', browser).send_keys(email)\n",
    "    if tel != 0:\n",
    "        find_id('objDQ5', browser).send_keys(tel)\n",
    "        \n",
    "    time.sleep(.5)\n",
    "    find_id('BtnNextPage', browser).click()"
   ]
  },
  {
   "cell_type": "code",
   "execution_count": 203,
   "id": "06a239b9",
   "metadata": {},
   "outputs": [],
   "source": [
    "final_page_field(browser, name, company_name, pos, email, tel)"
   ]
  },
  {
   "cell_type": "code",
   "execution_count": 205,
   "id": "0e295b6f",
   "metadata": {},
   "outputs": [],
   "source": [
    "agree_status = 1\n",
    "name = '테스트'\n",
    "tel = '010-0000-0000'"
   ]
  },
  {
   "cell_type": "code",
   "execution_count": 204,
   "id": "1e68cebc",
   "metadata": {},
   "outputs": [],
   "source": [
    "def fortythree_page_field(browser, agree_status, name, tel):\n",
    "    if agree_status == 1:\n",
    "        find_id('objPQ1_1', browser).click()\n",
    "        time.sleep(1)\n",
    "        find_id('objPQ2a', browser).send_keys(name)\n",
    "        time.sleep(.5)\n",
    "        find_id('objPQ2b', browser).send_keys(tel)\n",
    "    elif agree_status == 2:\n",
    "        find_id('objPQ1_2', browser).click()"
   ]
  },
  {
   "cell_type": "code",
   "execution_count": 206,
   "id": "c437dd55",
   "metadata": {},
   "outputs": [],
   "source": [
    "fortythree_page_field(browser, agree_status, name, tel)"
   ]
  }
 ],
 "metadata": {
  "kernelspec": {
   "display_name": "Python 3 (ipykernel)",
   "language": "python",
   "name": "python3"
  },
  "language_info": {
   "codemirror_mode": {
    "name": "ipython",
    "version": 3
   },
   "file_extension": ".py",
   "mimetype": "text/x-python",
   "name": "python",
   "nbconvert_exporter": "python",
   "pygments_lexer": "ipython3",
   "version": "3.11.4"
  }
 },
 "nbformat": 4,
 "nbformat_minor": 5
}
