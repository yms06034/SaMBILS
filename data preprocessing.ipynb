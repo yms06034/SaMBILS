{
 "cells": [
  {
   "cell_type": "code",
   "execution_count": 1,
   "id": "0ae50078",
   "metadata": {},
   "outputs": [],
   "source": [
    "import pandas as pd"
   ]
  },
  {
   "cell_type": "code",
   "execution_count": 47,
   "id": "7e16b732",
   "metadata": {},
   "outputs": [],
   "source": [
    "df = pd.read_excel('C:\\\\Users\\\\yms06\\\\Downloads\\\\23년 중소기업 정보화 수준조사 중소기업.xlsx')\n",
    "df1 = pd.read_excel('C:\\\\Users\\\\yms06\\\\Downloads\\\\23년 중소기업 정보화 수준조사 중소기업 2.xlsx')"
   ]
  },
  {
   "cell_type": "code",
   "execution_count": 48,
   "id": "1f5ccb0c",
   "metadata": {},
   "outputs": [],
   "source": [
    "df_1 = df.copy()\n",
    "df_2 = df1.copy()"
   ]
  },
  {
   "cell_type": "code",
   "execution_count": 49,
   "id": "694d1ace",
   "metadata": {},
   "outputs": [
    {
     "name": "stdout",
     "output_type": "stream",
     "text": [
      "Index(['ID', '기업구분', '매출액 규모', '참여사업명', '산업', '코드 분류 (대분류)', '코드 분류 (중분류)',\n",
      "       '코드 분류2 (중분류)', '기업명', '사업자 등록번호', '법인등록번호', '소재지', '창업년도', '응답자 성명',\n",
      "       '소속', '직위·직급', 'E-mail', '전화번호', '1', '2', '3', '4-1', '4-2', '5',\n",
      "       '6-1', '6-2', '6-3', '7', '8', '9', '10', '휴대폰 번호', '이메일 주소', '부서',\n",
      "       '이름', '직책', '통화내용', '컨텍코드', '조사원'],\n",
      "      dtype='object')\n",
      "Index(['ID', '기업구분', '매출액 규모', '참여사업명', '산업', '코드 분류 (대분류)', '코드 분류 (중분류)',\n",
      "       '코드 분류2 (중분류)', '기업명', '사업자 등록번호', '법인등록번호', '소재지', '창업년도', '응답자 성명',\n",
      "       '소속', '직위·직급', 'E-mail', '전화번호', '1', '2', '3', '4-1', '4-2', '5',\n",
      "       '6-1', '6-2', '6-3', '7', '8', '9', '10', '휴대폰 번호', '이메일 주소', '부서',\n",
      "       '이름', '직책', '통화내용', '컨텍코드', '조사원'],\n",
      "      dtype='object')\n"
     ]
    }
   ],
   "source": [
    "print(df_1.columns)\n",
    "print(df_2.columns)"
   ]
  },
  {
   "cell_type": "code",
   "execution_count": 58,
   "id": "b4e0771e",
   "metadata": {},
   "outputs": [
    {
     "name": "stderr",
     "output_type": "stream",
     "text": [
      "C:\\Users\\yms06\\AppData\\Local\\Temp\\ipykernel_1596\\623368197.py:1: FutureWarning: In a future version, the Index constructor will not infer numeric dtypes when passed object-dtype sequences (matching Series behavior)\n",
      "  df2 = pd.merge(df_1, df_2, how='outer', indicator=True\n"
     ]
    }
   ],
   "source": [
    "df2 = pd.merge(df_1, df_2, how='outer', indicator=True\n",
    "              )"
   ]
  },
  {
   "cell_type": "code",
   "execution_count": 59,
   "id": "74a9b853",
   "metadata": {},
   "outputs": [
    {
     "data": {
      "text/plain": [
       "['both', 'left_only', 'right_only']\n",
       "Categories (3, object): ['left_only', 'right_only', 'both']"
      ]
     },
     "execution_count": 59,
     "metadata": {},
     "output_type": "execute_result"
    }
   ],
   "source": [
    "df2['_merge'].unique()"
   ]
  },
  {
   "cell_type": "code",
   "execution_count": 60,
   "id": "fd09d206",
   "metadata": {},
   "outputs": [],
   "source": [
    "df2_1 = df2.copy()"
   ]
  },
  {
   "cell_type": "code",
   "execution_count": 64,
   "id": "0c1e1945",
   "metadata": {},
   "outputs": [
    {
     "data": {
      "text/plain": [
       "617"
      ]
     },
     "execution_count": 64,
     "metadata": {},
     "output_type": "execute_result"
    }
   ],
   "source": [
    "df2_1.duplicated(['ID'], keep='first').sum()"
   ]
  },
  {
   "cell_type": "code",
   "execution_count": 66,
   "id": "3c674911",
   "metadata": {},
   "outputs": [],
   "source": [
    "true_df = df2_1.drop_duplicates(['ID'])"
   ]
  },
  {
   "cell_type": "code",
   "execution_count": 70,
   "id": "b30fb2a8",
   "metadata": {},
   "outputs": [
    {
     "name": "stderr",
     "output_type": "stream",
     "text": [
      "C:\\Users\\yms06\\AppData\\Local\\Temp\\ipykernel_1596\\3942170446.py:1: SettingWithCopyWarning: \n",
      "A value is trying to be set on a copy of a slice from a DataFrame\n",
      "\n",
      "See the caveats in the documentation: https://pandas.pydata.org/pandas-docs/stable/user_guide/indexing.html#returning-a-view-versus-a-copy\n",
      "  true_df.drop(['_merge'], axis=1,inplace=True)\n"
     ]
    }
   ],
   "source": [
    "true_df.drop(['_merge'], axis=1,inplace=True)"
   ]
  },
  {
   "cell_type": "code",
   "execution_count": 72,
   "id": "4bd2186b",
   "metadata": {},
   "outputs": [],
   "source": [
    "true_df.to_excel('정보화데이터전처리(중소기업).xlsx', index=False)"
   ]
  },
  {
   "cell_type": "markdown",
   "id": "6ae07931",
   "metadata": {},
   "source": [
    "---------------"
   ]
  },
  {
   "cell_type": "code",
   "execution_count": 19,
   "id": "3b91335a",
   "metadata": {},
   "outputs": [],
   "source": [
    "df = pd.read_excel('정보화 Data Preprocessing (0104).xlsx')\n",
    "df1 = pd.read_excel('231222-정보화리스트_기업데이터.xlsx')"
   ]
  },
  {
   "cell_type": "code",
   "execution_count": 20,
   "id": "953aa2fd",
   "metadata": {},
   "outputs": [
    {
     "data": {
      "text/plain": [
       "Index(['URL', 'ID', '기업구분', '매출액 규모', '참여사업명', '산업', '코드 분류 (대분류)',\n",
       "       '코드 분류 (중분류)', '코드 분류2 (중분류)', '기업명', '사업자 등록번호', '사업자등록번호2', '법인등록번호',\n",
       "       '소재지', '창업년도', '응답자 성명', '소속', '직위·직급', 'E-mail', '전화번호', '본사여부', '거래처',\n",
       "       '본사직원 비율', '생산직비율', '남녀비율', '정보화투자여부', '정보보안교육여부', '연횟수', '정보화교육투자비용',\n",
       "       '정보화담당인력', '정보화외주여부', '데이터부서여부', '활용AI여부', '휴대폰 번호', '이메일 주소', '부서',\n",
       "       '이름', '직책', '통화내용', '컨텍코드', '조사원'],\n",
       "      dtype='object')"
      ]
     },
     "execution_count": 20,
     "metadata": {},
     "output_type": "execute_result"
    }
   ],
   "source": [
    "df.columns"
   ]
  },
  {
   "cell_type": "code",
   "execution_count": 21,
   "id": "21c445d3",
   "metadata": {},
   "outputs": [],
   "source": [
    "df2 = pd.merge(df, df1, how='inner', indicator=True, on='사업자등록번호2')"
   ]
  },
  {
   "cell_type": "code",
   "execution_count": 23,
   "id": "67247a92",
   "metadata": {},
   "outputs": [
    {
     "data": {
      "text/plain": [
       "Index(['URL', 'ID', '기업구분', '매출액 규모', '참여사업명', '산업', '코드 분류 (대분류)',\n",
       "       '코드 분류 (중분류)', '코드 분류2 (중분류)', '기업명_x', '사업자 등록번호', '사업자등록번호2',\n",
       "       '법인등록번호_x', '소재지', '창업년도', '응답자 성명', '소속', '직위·직급', 'E-mail', '전화번호',\n",
       "       '본사여부', '거래처', '본사직원 비율', '생산직비율', '남녀비율', '정보화투자여부', '정보보안교육여부', '연횟수',\n",
       "       '정보화교육투자비용', '정보화담당인력', '정보화외주여부', '데이터부서여부', '활용AI여부', '휴대폰 번호',\n",
       "       '이메일 주소', '부서', '이름', '직책', '통화내용', '컨텍코드', '조사원', '법인등록번호_y', '기업명_y',\n",
       "       '종사자수', '22년 자본금', '21년 자본금', '22년매출액', '21년매출액', '22년수출액', '21년수출액',\n",
       "       '22년영업이익', '21년영업이익', '_merge'],\n",
       "      dtype='object')"
      ]
     },
     "execution_count": 23,
     "metadata": {},
     "output_type": "execute_result"
    }
   ],
   "source": [
    "df2.columns"
   ]
  },
  {
   "cell_type": "code",
   "execution_count": 24,
   "id": "e3074832",
   "metadata": {},
   "outputs": [],
   "source": [
    "df2.to_excel('test.xlsx', index=False)"
   ]
  },
  {
   "cell_type": "code",
   "execution_count": null,
   "id": "08984399",
   "metadata": {},
   "outputs": [],
   "source": []
  },
  {
   "cell_type": "markdown",
   "id": "c96dc8d0",
   "metadata": {},
   "source": [
    "-------------"
   ]
  },
  {
   "cell_type": "code",
   "execution_count": 1,
   "id": "e3149dff",
   "metadata": {},
   "outputs": [],
   "source": [
    "from selenium import webdriver\n",
    "from selenium.webdriver.common.by import By\n",
    "from selenium.webdriver.common.keys import Keys\n",
    "from selenium.webdriver.chrome.options import Options\n",
    "from selenium.webdriver.chrome.service import Service\n",
    "from selenium.common.exceptions import NoSuchElementException\n",
    "from selenium.webdriver.support.ui import WebDriverWait\n",
    "from selenium.webdriver.support import expected_conditions as EC\n",
    "from selenium.common.exceptions import NoAlertPresentException\n",
    "from selenium.webdriver.support.ui import Select\n",
    "\n",
    "from bs4 import BeautifulSoup as BS\n",
    "from datetime import datetime\n",
    "from random import *\n",
    "\n",
    "import pandas as pd\n",
    "import time\n",
    "import sys, os\n",
    "import random\n",
    "import re\n",
    "import math\n",
    "\n",
    "\n",
    "def find_css(css_selector, browser):\n",
    "    return browser.find_element(By.CSS_SELECTOR, css_selector)\n",
    "def finds_css(css_selector, browser):\n",
    "    return browser.find_elements(By.CSS_SELECTOR, css_selector)\n",
    "\n",
    "def find_xpath(xpath, browser):\n",
    "    return browser.find_element(By.XPATH, xpath)\n",
    "def finds_xpath(xpath, browser):\n",
    "    return browser.find_elements(By.XPATH, xpath)\n",
    "\n",
    "def find_id(e_id, browser):\n",
    "    return browser.find_element(By.ID, e_id)\n",
    "\n",
    "def find_className(cn, browser):\n",
    "    return browser.find_element(By.CLASS_NAME, cn)\n",
    "def finds_className(cn , browser):\n",
    "    return browser.find_element(By.CLASS_NAME, cn)\n",
    "\n",
    "def find_linktext(lt, browser):\n",
    "    return browser.find_element(By.LINK_TEXT, lt)\n",
    "\n",
    "def find_name(name, browser):\n",
    "    return browser.find_element(By.NAME, name)\n",
    "def finds_name(name, browser):\n",
    "    return browser.find_elements(By.NAME, name)\n",
    "\n",
    "def resource_path(relative_path):\n",
    "    \"\"\" Get absolute path to resource, works for dev and for PyInstaller \"\"\"\n",
    "    base_path = getattr(sys, '_MEIPASS', os.path.dirname(os.path.abspath(__file__)))\n",
    "    return os.path.join(base_path, relative_path)\n",
    "\n",
    "def calculate_percentage(value, percentage):\n",
    "    result = (value * percentage) / 100\n",
    "    return result\n",
    "\n",
    "def extracting_numbers_from_text(text_price):\n",
    "    pattern = r'\\d+'\n",
    "    matches = re.findall(pattern, text_price)\n",
    "    result = int(''.join(matches))\n",
    "    return int(result)\n",
    "\n",
    "pattern = r'\\d+'"
   ]
  },
  {
   "cell_type": "code",
   "execution_count": 2,
   "id": "0286b0b7",
   "metadata": {},
   "outputs": [],
   "source": [
    "def open_browser():    \n",
    "    options = webdriver.ChromeOptions()\n",
    "    options.add_argument(\"--window-size=1080,800\")\n",
    "\n",
    "    chrome_service = Service('chromedriver')\n",
    "    chrome_service = Service(executable_path=\"chromedriver.exe\")\n",
    "    browser = webdriver.Chrome(service=chrome_service, options=options)\n",
    "    \n",
    "    return browser\n",
    "\n",
    "def open_url(browser, url):\n",
    "    browser.get(url)\n",
    "    time.sleep(1)"
   ]
  },
  {
   "cell_type": "code",
   "execution_count": 14,
   "id": "cf6fc21f",
   "metadata": {},
   "outputs": [],
   "source": [
    "df2 = pd.read_excel('정보화데이터전처리(완료_0105).xlsx')"
   ]
  },
  {
   "cell_type": "code",
   "execution_count": 18,
   "id": "a7fbf7df",
   "metadata": {},
   "outputs": [],
   "source": [
    "df2 = pd.read_excel('0109전처리.xlsx')"
   ]
  },
  {
   "cell_type": "code",
   "execution_count": 19,
   "id": "e2197660",
   "metadata": {},
   "outputs": [
    {
     "name": "stdout",
     "output_type": "stream",
     "text": [
      "68\n",
      "68\n"
     ]
    }
   ],
   "source": [
    "url_list = df2['URL'].to_list()\n",
    "company_name_list = df2['기업명'].to_list()\n",
    "\n",
    "print(len(url_list))\n",
    "print(len(company_name_list))"
   ]
  },
  {
   "cell_type": "code",
   "execution_count": 20,
   "id": "8450a2f1",
   "metadata": {
    "scrolled": true
   },
   "outputs": [
    {
     "name": "stdout",
     "output_type": "stream",
     "text": [
      "1 : 주식회사 밀박사람들, 주식회사 밀박사람들\n",
      "2 : 평택낙우회영농조합법인, 평택낙우회영농조합법인\n",
      "3 : (자)동명식품, (자)동명식품\n",
      "4 : 신진물산(주), 신진물산(주)\n",
      "5 : 단풍미인한우영농조합법인, 단풍미인한우영농조합법인\n",
      "6 : (주)신원지앤피, (주)신원지앤피\n",
      "7 : 씨피켐(주), 씨피켐(주)\n",
      "8 : 에이스시스템, 에이스시스템\n",
      "9 : 세보라이트(주), 세보라이트(주)\n",
      "10 : 대흥기업주식회사, 대흥기업주식회사\n",
      "11 : (주)유정엔지니어링, (주)유정엔지니어링\n",
      "12 : 주식회사 타일런트스타, 주식회사 타일런트스타\n",
      "13 : (주)성신엔지니어링, (주)성신엔지니어링\n",
      "14 : (주)세계산업, (주)세계산업\n",
      "15 : 한국티앤에스(주), 한국티앤에스(주)\n",
      "16 : 케이포스틸(주), 케이포스틸(주)\n",
      "17 : 한아 에스 에스(주), 한아 에스 에스(주)\n",
      "18 : (주)에이치에스씨, (주)에이치에스씨\n",
      "19 : (주)태성, (주)태성\n",
      "20 : 삼진시그널, 삼진시그널\n",
      "21 : 한기술(주), 한기술(주)\n",
      "22 : 이은주세무회계사무소, 이은주세무회계사무소\n",
      "23 : 세무법인정인, 세무법인정인\n",
      "24 : 비상미디어, 비상미디어\n",
      "25 : 인제대학교 산학협력단, 인제대학교 산학협력단\n",
      "26 : KG ETS(주) 제2공장, KG ETS(주) 제2공장\n",
      "27 : 제일가식품, 제일가식품\n",
      "28 : 리마카롱, 리마카롱\n",
      "29 : 대구탁주합동제1공장, 대구탁주합동제1공장\n",
      "30 : 서진필터, 서진필터\n",
      "31 : 여주케미컬, 여주케미컬\n",
      "32 : (주)도일에코덱, (주)도일에코덱\n",
      "33 : 국성폴리텍(주), 국성폴리텍(주)\n",
      "34 : (주)엔더블유, (주)엔더블유\n",
      "35 : DKST, DKST\n",
      "36 : KRC고려, KRC고려\n",
      "37 : 티엔지테크(T&G TECH), 티엔지테크(T&G TECH)\n",
      "38 : 우일건업, 우일건업\n",
      "39 : (주)케이원임산, (주)케이원임산\n",
      "40 : 창광실업, 창광실업\n",
      "41 : 삼성씰산업, 삼성씰산업\n",
      "42 : (주)맥스, (주)맥스\n",
      "43 : 우리도시개발주식회사, 우리도시개발주식회사\n",
      "44 : 진영산업(주), 진영산업(주)\n",
      "45 : 광주환경공단, 광주환경공단\n",
      "46 : 범환금속, 범환금속\n",
      "47 : 삼성농기, 삼성농기\n",
      "48 : 포천이동식품, 포천이동식품\n",
      "49 : 우성치과기공소, 우성치과기공소\n",
      "50 : （주）에이치케이씨, （주）에이치케이씨\n",
      "51 : 삼육칼라프로세스, 삼육칼라프로세스\n",
      "52 : (주)큰수레정보기술, (주)큰수레정보기술\n",
      "53 : 라파엘동물병원, 라파엘동물병원\n",
      "54 : (주)티앤에스인터내셔널, (주)티앤에스인터내셔널\n",
      "55 : 아진피앤에스, 아진피앤에스\n",
      "56 : 무림피앤피주식회사, 무림피앤피주식회사\n",
      "57 : 라온화이트햇(주), 라온화이트햇(주)\n",
      "58 : 창영케미칼, 창영케미칼\n",
      "59 : (주)대전공조, (주)대전공조\n",
      "60 : (주)바이오리듬, (주)바이오리듬\n",
      "61 : 수원시상수도사업소, 수원시상수도사업소\n",
      "62 : 연광복지재단, 연광복지재단\n",
      "63 : 대풍환경, 대풍환경\n",
      "64 : (주)성홍 양산공장, (주)성홍 양산공장\n",
      "65 : (주)메이드코리아, (주)메이드코리아\n",
      "66 : 에버그린, 에버그린\n"
     ]
    }
   ],
   "source": [
    "browser = open_browser()\n",
    "\n",
    "count = 1\n",
    "\n",
    "error_urls = []\n",
    "\n",
    "for url, company_name in zip(url_list, company_name_list):\n",
    "    try:\n",
    "        open_url(browser, url)\n",
    "        print(f\"{count} : {company_name}, {find_id('objSQ1', browser).get_attribute('value')}\")\n",
    "        count += 1\n",
    "    except:\n",
    "        error_urls.append(url)"
   ]
  },
  {
   "cell_type": "code",
   "execution_count": 21,
   "id": "622745cb",
   "metadata": {},
   "outputs": [
    {
     "data": {
      "text/plain": [
       "2"
      ]
     },
     "execution_count": 21,
     "metadata": {},
     "output_type": "execute_result"
    }
   ],
   "source": [
    "len(error_urls)"
   ]
  },
  {
   "cell_type": "code",
   "execution_count": 23,
   "id": "9440f3d9",
   "metadata": {},
   "outputs": [
    {
     "data": {
      "text/plain": [
       "['URL', 'https://rnr.surveybox.kr/?pid=S16668f58vvy&grpid=list&resid=537']"
      ]
     },
     "execution_count": 23,
     "metadata": {},
     "output_type": "execute_result"
    }
   ],
   "source": [
    "error_urls"
   ]
  }
 ],
 "metadata": {
  "kernelspec": {
   "display_name": "Python 3 (ipykernel)",
   "language": "python",
   "name": "python3"
  },
  "language_info": {
   "codemirror_mode": {
    "name": "ipython",
    "version": 3
   },
   "file_extension": ".py",
   "mimetype": "text/x-python",
   "name": "python",
   "nbconvert_exporter": "python",
   "pygments_lexer": "ipython3",
   "version": "3.11.4"
  }
 },
 "nbformat": 4,
 "nbformat_minor": 5
}
