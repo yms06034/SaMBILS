{
 "cells": [
  {
   "cell_type": "code",
   "execution_count": 1,
   "id": "0ae50078",
   "metadata": {},
   "outputs": [],
   "source": [
    "import pandas as pd"
   ]
  },
  {
   "cell_type": "code",
   "execution_count": 47,
   "id": "7e16b732",
   "metadata": {},
   "outputs": [],
   "source": [
    "df = pd.read_excel('C:\\\\Users\\\\yms06\\\\Downloads\\\\23년 중소기업 정보화 수준조사 중소기업.xlsx')\n",
    "df1 = pd.read_excel('C:\\\\Users\\\\yms06\\\\Downloads\\\\23년 중소기업 정보화 수준조사 중소기업 2.xlsx')"
   ]
  },
  {
   "cell_type": "code",
   "execution_count": 48,
   "id": "1f5ccb0c",
   "metadata": {},
   "outputs": [],
   "source": [
    "df_1 = df.copy()\n",
    "df_2 = df1.copy()"
   ]
  },
  {
   "cell_type": "code",
   "execution_count": 49,
   "id": "694d1ace",
   "metadata": {},
   "outputs": [
    {
     "name": "stdout",
     "output_type": "stream",
     "text": [
      "Index(['ID', '기업구분', '매출액 규모', '참여사업명', '산업', '코드 분류 (대분류)', '코드 분류 (중분류)',\n",
      "       '코드 분류2 (중분류)', '기업명', '사업자 등록번호', '법인등록번호', '소재지', '창업년도', '응답자 성명',\n",
      "       '소속', '직위·직급', 'E-mail', '전화번호', '1', '2', '3', '4-1', '4-2', '5',\n",
      "       '6-1', '6-2', '6-3', '7', '8', '9', '10', '휴대폰 번호', '이메일 주소', '부서',\n",
      "       '이름', '직책', '통화내용', '컨텍코드', '조사원'],\n",
      "      dtype='object')\n",
      "Index(['ID', '기업구분', '매출액 규모', '참여사업명', '산업', '코드 분류 (대분류)', '코드 분류 (중분류)',\n",
      "       '코드 분류2 (중분류)', '기업명', '사업자 등록번호', '법인등록번호', '소재지', '창업년도', '응답자 성명',\n",
      "       '소속', '직위·직급', 'E-mail', '전화번호', '1', '2', '3', '4-1', '4-2', '5',\n",
      "       '6-1', '6-2', '6-3', '7', '8', '9', '10', '휴대폰 번호', '이메일 주소', '부서',\n",
      "       '이름', '직책', '통화내용', '컨텍코드', '조사원'],\n",
      "      dtype='object')\n"
     ]
    }
   ],
   "source": [
    "print(df_1.columns)\n",
    "print(df_2.columns)"
   ]
  },
  {
   "cell_type": "code",
   "execution_count": 58,
   "id": "b4e0771e",
   "metadata": {},
   "outputs": [
    {
     "name": "stderr",
     "output_type": "stream",
     "text": [
      "C:\\Users\\yms06\\AppData\\Local\\Temp\\ipykernel_1596\\623368197.py:1: FutureWarning: In a future version, the Index constructor will not infer numeric dtypes when passed object-dtype sequences (matching Series behavior)\n",
      "  df2 = pd.merge(df_1, df_2, how='outer', indicator=True\n"
     ]
    }
   ],
   "source": [
    "df2 = pd.merge(df_1, df_2, how='outer', indicator=True\n",
    "              )"
   ]
  },
  {
   "cell_type": "code",
   "execution_count": 59,
   "id": "74a9b853",
   "metadata": {},
   "outputs": [
    {
     "data": {
      "text/plain": [
       "['both', 'left_only', 'right_only']\n",
       "Categories (3, object): ['left_only', 'right_only', 'both']"
      ]
     },
     "execution_count": 59,
     "metadata": {},
     "output_type": "execute_result"
    }
   ],
   "source": [
    "df2['_merge'].unique()"
   ]
  },
  {
   "cell_type": "code",
   "execution_count": 60,
   "id": "fd09d206",
   "metadata": {},
   "outputs": [],
   "source": [
    "df2_1 = df2.copy()"
   ]
  },
  {
   "cell_type": "code",
   "execution_count": 64,
   "id": "0c1e1945",
   "metadata": {},
   "outputs": [
    {
     "data": {
      "text/plain": [
       "617"
      ]
     },
     "execution_count": 64,
     "metadata": {},
     "output_type": "execute_result"
    }
   ],
   "source": [
    "df2_1.duplicated(['ID'], keep='first').sum()"
   ]
  },
  {
   "cell_type": "code",
   "execution_count": 66,
   "id": "3c674911",
   "metadata": {},
   "outputs": [],
   "source": [
    "true_df = df2_1.drop_duplicates(['ID'])"
   ]
  },
  {
   "cell_type": "code",
   "execution_count": 70,
   "id": "b30fb2a8",
   "metadata": {},
   "outputs": [
    {
     "name": "stderr",
     "output_type": "stream",
     "text": [
      "C:\\Users\\yms06\\AppData\\Local\\Temp\\ipykernel_1596\\3942170446.py:1: SettingWithCopyWarning: \n",
      "A value is trying to be set on a copy of a slice from a DataFrame\n",
      "\n",
      "See the caveats in the documentation: https://pandas.pydata.org/pandas-docs/stable/user_guide/indexing.html#returning-a-view-versus-a-copy\n",
      "  true_df.drop(['_merge'], axis=1,inplace=True)\n"
     ]
    }
   ],
   "source": [
    "true_df.drop(['_merge'], axis=1,inplace=True)"
   ]
  },
  {
   "cell_type": "code",
   "execution_count": 72,
   "id": "4bd2186b",
   "metadata": {},
   "outputs": [],
   "source": [
    "true_df.to_excel('정보화데이터전처리(중소기업).xlsx', index=False)"
   ]
  },
  {
   "cell_type": "markdown",
   "id": "6ae07931",
   "metadata": {},
   "source": [
    "---------------"
   ]
  },
  {
   "cell_type": "code",
   "execution_count": 19,
   "id": "3b91335a",
   "metadata": {},
   "outputs": [],
   "source": [
    "df = pd.read_excel('정보화 Data Preprocessing (0104).xlsx')\n",
    "df1 = pd.read_excel('231222-정보화리스트_기업데이터.xlsx')"
   ]
  },
  {
   "cell_type": "code",
   "execution_count": 20,
   "id": "953aa2fd",
   "metadata": {},
   "outputs": [
    {
     "data": {
      "text/plain": [
       "Index(['URL', 'ID', '기업구분', '매출액 규모', '참여사업명', '산업', '코드 분류 (대분류)',\n",
       "       '코드 분류 (중분류)', '코드 분류2 (중분류)', '기업명', '사업자 등록번호', '사업자등록번호2', '법인등록번호',\n",
       "       '소재지', '창업년도', '응답자 성명', '소속', '직위·직급', 'E-mail', '전화번호', '본사여부', '거래처',\n",
       "       '본사직원 비율', '생산직비율', '남녀비율', '정보화투자여부', '정보보안교육여부', '연횟수', '정보화교육투자비용',\n",
       "       '정보화담당인력', '정보화외주여부', '데이터부서여부', '활용AI여부', '휴대폰 번호', '이메일 주소', '부서',\n",
       "       '이름', '직책', '통화내용', '컨텍코드', '조사원'],\n",
       "      dtype='object')"
      ]
     },
     "execution_count": 20,
     "metadata": {},
     "output_type": "execute_result"
    }
   ],
   "source": [
    "df.columns"
   ]
  },
  {
   "cell_type": "code",
   "execution_count": 21,
   "id": "21c445d3",
   "metadata": {},
   "outputs": [],
   "source": [
    "df2 = pd.merge(df, df1, how='inner', indicator=True, on='사업자등록번호2')"
   ]
  },
  {
   "cell_type": "code",
   "execution_count": 23,
   "id": "67247a92",
   "metadata": {},
   "outputs": [
    {
     "data": {
      "text/plain": [
       "Index(['URL', 'ID', '기업구분', '매출액 규모', '참여사업명', '산업', '코드 분류 (대분류)',\n",
       "       '코드 분류 (중분류)', '코드 분류2 (중분류)', '기업명_x', '사업자 등록번호', '사업자등록번호2',\n",
       "       '법인등록번호_x', '소재지', '창업년도', '응답자 성명', '소속', '직위·직급', 'E-mail', '전화번호',\n",
       "       '본사여부', '거래처', '본사직원 비율', '생산직비율', '남녀비율', '정보화투자여부', '정보보안교육여부', '연횟수',\n",
       "       '정보화교육투자비용', '정보화담당인력', '정보화외주여부', '데이터부서여부', '활용AI여부', '휴대폰 번호',\n",
       "       '이메일 주소', '부서', '이름', '직책', '통화내용', '컨텍코드', '조사원', '법인등록번호_y', '기업명_y',\n",
       "       '종사자수', '22년 자본금', '21년 자본금', '22년매출액', '21년매출액', '22년수출액', '21년수출액',\n",
       "       '22년영업이익', '21년영업이익', '_merge'],\n",
       "      dtype='object')"
      ]
     },
     "execution_count": 23,
     "metadata": {},
     "output_type": "execute_result"
    }
   ],
   "source": [
    "df2.columns"
   ]
  },
  {
   "cell_type": "code",
   "execution_count": 24,
   "id": "e3074832",
   "metadata": {},
   "outputs": [],
   "source": [
    "df2.to_excel('test.xlsx', index=False)"
   ]
  },
  {
   "cell_type": "code",
   "execution_count": null,
   "id": "08984399",
   "metadata": {},
   "outputs": [],
   "source": []
  },
  {
   "cell_type": "markdown",
   "id": "c96dc8d0",
   "metadata": {},
   "source": [
    "-------------"
   ]
  },
  {
   "cell_type": "code",
   "execution_count": 1,
   "id": "e3149dff",
   "metadata": {},
   "outputs": [],
   "source": [
    "from selenium import webdriver\n",
    "from selenium.webdriver.common.by import By\n",
    "from selenium.webdriver.common.keys import Keys\n",
    "from selenium.webdriver.chrome.options import Options\n",
    "from selenium.webdriver.chrome.service import Service\n",
    "from selenium.common.exceptions import NoSuchElementException\n",
    "from selenium.webdriver.support.ui import WebDriverWait\n",
    "from selenium.webdriver.support import expected_conditions as EC\n",
    "from selenium.common.exceptions import NoAlertPresentException\n",
    "from selenium.webdriver.support.ui import Select\n",
    "\n",
    "from bs4 import BeautifulSoup as BS\n",
    "from datetime import datetime\n",
    "from random import *\n",
    "\n",
    "import pandas as pd\n",
    "import time\n",
    "import sys, os\n",
    "import random\n",
    "import re\n",
    "import math\n",
    "\n",
    "\n",
    "def find_css(css_selector, browser):\n",
    "    return browser.find_element(By.CSS_SELECTOR, css_selector)\n",
    "def finds_css(css_selector, browser):\n",
    "    return browser.find_elements(By.CSS_SELECTOR, css_selector)\n",
    "\n",
    "def find_xpath(xpath, browser):\n",
    "    return browser.find_element(By.XPATH, xpath)\n",
    "def finds_xpath(xpath, browser):\n",
    "    return browser.find_elements(By.XPATH, xpath)\n",
    "\n",
    "def find_id(e_id, browser):\n",
    "    return browser.find_element(By.ID, e_id)\n",
    "\n",
    "def find_className(cn, browser):\n",
    "    return browser.find_element(By.CLASS_NAME, cn)\n",
    "def finds_className(cn , browser):\n",
    "    return browser.find_element(By.CLASS_NAME, cn)\n",
    "\n",
    "def find_linktext(lt, browser):\n",
    "    return browser.find_element(By.LINK_TEXT, lt)\n",
    "\n",
    "def find_name(name, browser):\n",
    "    return browser.find_element(By.NAME, name)\n",
    "def finds_name(name, browser):\n",
    "    return browser.find_elements(By.NAME, name)\n",
    "\n",
    "def resource_path(relative_path):\n",
    "    \"\"\" Get absolute path to resource, works for dev and for PyInstaller \"\"\"\n",
    "    base_path = getattr(sys, '_MEIPASS', os.path.dirname(os.path.abspath(__file__)))\n",
    "    return os.path.join(base_path, relative_path)\n",
    "\n",
    "def calculate_percentage(value, percentage):\n",
    "    result = (value * percentage) / 100\n",
    "    return result\n",
    "\n",
    "def extracting_numbers_from_text(text_price):\n",
    "    pattern = r'\\d+'\n",
    "    matches = re.findall(pattern, text_price)\n",
    "    result = int(''.join(matches))\n",
    "    return int(result)\n",
    "\n",
    "pattern = r'\\d+'"
   ]
  },
  {
   "cell_type": "code",
   "execution_count": 2,
   "id": "0286b0b7",
   "metadata": {},
   "outputs": [],
   "source": [
    "def open_browser():    \n",
    "    options = webdriver.ChromeOptions()\n",
    "    options.add_argument(\"--window-size=1080,800\")\n",
    "\n",
    "    chrome_service = Service('chromedriver')\n",
    "    chrome_service = Service(executable_path=\"chromedriver.exe\")\n",
    "    browser = webdriver.Chrome(service=chrome_service, options=options)\n",
    "    \n",
    "    return browser\n",
    "\n",
    "def open_url(browser, url):\n",
    "    browser.get(url)\n",
    "    time.sleep(1)"
   ]
  },
  {
   "cell_type": "code",
   "execution_count": 3,
   "id": "cf6fc21f",
   "metadata": {},
   "outputs": [],
   "source": [
    "df2 = pd.read_excel('정보화데이터전처리(완료_0105).xlsx')"
   ]
  },
  {
   "cell_type": "code",
   "execution_count": 18,
   "id": "a7fbf7df",
   "metadata": {},
   "outputs": [],
   "source": [
    "df2 = pd.read_excel('0109전처리.xlsx')"
   ]
  },
  {
   "cell_type": "code",
   "execution_count": 4,
   "id": "e2197660",
   "metadata": {},
   "outputs": [
    {
     "name": "stdout",
     "output_type": "stream",
     "text": [
      "209\n",
      "209\n"
     ]
    }
   ],
   "source": [
    "url_list = df2['URL'].to_list()\n",
    "company_name_list = df2['기업명'].to_list()\n",
    "\n",
    "print(len(url_list))\n",
    "print(len(company_name_list))"
   ]
  },
  {
   "cell_type": "code",
   "execution_count": 8,
   "id": "8450a2f1",
   "metadata": {
    "scrolled": true
   },
   "outputs": [
    {
     "name": "stdout",
     "output_type": "stream",
     "text": [
      "1 : 진성환경 주식회사, 진성환경 주식회사\n",
      "2 : 주식회사 원진환경, 주식회사 원진환경\n",
      "3 : 동화산업(주), 동화산업(주)\n",
      "4 : 부경산업(주), 부경산업(주)\n",
      "5 : 에이스메탈 주식회사, 에이스메탈 주식회사\n",
      "6 : (주)루미산업, (주)루미산업\n",
      "7 : 주식회사 씨엔에스, 주식회사 씨엔에스\n",
      "8 : (주)그린스코, (주)그린스코\n",
      "9 : 성석개발(주), 성석개발(주)\n",
      "10 : 수도권매립지관리공사, 수도권매립지관리공사\n",
      "11 : 대한강업(주), 대한강업(주)\n",
      "12 : (주)삼성환경엔지니어링, (주)삼성환경엔지니어링\n",
      "13 : 케이지환경서비스 주식회사, 케이지환경서비스 주식회사\n",
      "14 : 용진환경주식회사, 용진환경주식회사\n",
      "15 : 원광종합개발(주), 원광종합개발(주)\n",
      "16 : 자연애산업개발 주식회사, 자연애산업개발 주식회사\n",
      "17 : 건우산업개발 주식회사, 건우산업개발 주식회사\n",
      "18 : 주식회사 비앤비스틸, 주식회사 비앤비스틸\n",
      "19 : 동양에코주식회사, 동양에코주식회사\n",
      "20 : 해동무역(주), 해동무역(주)\n",
      "21 : 주)현대종합폐차장, 주)현대종합폐차장\n",
      "22 : (주)이엠에프투(농비), (주)이엠에프투(농비)\n",
      "23 : 진우산업, 진우산업\n",
      "24 : (주)대양디앤씨, (주)대양디앤씨\n",
      "25 : 주식회사 두승, 주식회사 두승\n",
      "26 : 흥한환경개발주식회사, 흥한환경개발주식회사\n",
      "27 : (주)김해종합해체재활용산업, (주)김해종합해체재활용산업\n",
      "28 : 부경환경, 부경환경\n",
      "29 : 삼부산업, 삼부산업\n",
      "30 : 거영, 거영\n",
      "31 : 일신환경(주), 일신환경(주)\n",
      "32 : (주)성우모터스, (주)성우모터스\n",
      "33 : 무경지엔씨주식회사, 무경지엔씨주식회사\n",
      "34 : (주)빛고을환경, (주)빛고을환경\n",
      "35 : (주)태산환경, (주)태산환경\n",
      "36 : 대안환경(주), 대안환경(주)\n",
      "37 : (주)우주환경산업, (주)우주환경산업\n",
      "38 : 제아이씨(주), 제아이씨(주)\n",
      "39 : 원주그린(주), 원주그린(주)\n",
      "40 : 진흥환경(주), 진흥환경(주)\n",
      "41 : 성원환경(자), 성원환경(자)\n",
      "42 : (자)도시환경, (자)도시환경\n",
      "43 : (주)대진유리산업, (주)대진유리산업\n",
      "44 : 진도산업(주), 진도산업(주)\n",
      "45 : 동하기업, 동하기업\n",
      "46 : (주)비에이치에너지, (주)비에이치에너지\n",
      "47 : (주)원보, (주)원보\n",
      "48 : (주)케이지이서비스, (주)케이지이서비스\n",
      "49 : 부성철강(주), 부성철강(주)\n",
      "50 : (주)복천, (주)복천\n",
      "51 : 세방환경(주), 세방환경(주)\n",
      "52 : 더좋은환경(주), 더좋은환경(주)\n",
      "53 : (주)조광환경산업개발, (주)조광환경산업개발\n",
      "54 : 상록수산업, 상록수산업\n",
      "55 : 세명자원, 세명자원\n",
      "56 : 골드환경, 골드환경\n",
      "57 : 신한환경(주), 신한환경(주)\n",
      "58 : 세종스틸환경(주), 세종스틸환경(주)\n",
      "59 : (주)아이태드, (주)아이태드\n",
      "60 : 경기이엔티(주), 경기이엔티(주)\n",
      "61 : (주)수도권서부자원순환센터, (주)수도권서부자원순환센터\n",
      "62 : (주)유정산업개발, (주)유정산업개발\n",
      "63 : (주)평화자원, (주)평화자원\n",
      "64 : 녹색환경산업(주), 녹색환경산업(주)\n",
      "65 : (유)호원, (유)호원\n",
      "66 : (주)한강이앰피, (주)한강이앰피\n",
      "67 : 우리자원, 우리자원\n",
      "68 : 도시환경실업(주), 도시환경실업(주)\n",
      "69 : (주)에코월드, (주)에코월드\n",
      "70 : 시흥에코피아(주), 시흥에코피아(주)\n",
      "71 : (주)양지피앤알, (주)양지피앤알\n",
      "72 : 산양환경산업(주), 산양환경산업(주)\n",
      "73 : (주)동명이엔티, (주)동명이엔티\n",
      "74 : (자)용인환경, (자)용인환경\n",
      "75 : 중앙실업(합), 중앙실업(합)\n",
      "76 : (주)에프알에너지, (주)에프알에너지\n",
      "77 : (주)서청, (주)서청\n",
      "78 : 크린자원산업(주), 크린자원산업(주)\n",
      "79 : (주)에스엠테크, (주)에스엠테크\n",
      "80 : 가람산업(주), 가람산업(주)\n",
      "81 : (유)청명, (유)청명\n",
      "82 : (주)지엔티, (주)지엔티\n",
      "83 : 송림산업, 송림산업\n",
      "84 : (주)화성리사이클링, (주)화성리사이클링\n",
      "85 : 티와이환경(주), 티와이환경(주)\n",
      "86 : 부광자원(주), 부광자원(주)\n",
      "87 : 일성기업(주), 일성기업(주)\n",
      "88 : 푸른김해지키미(주), 푸른김해지키미(주)\n",
      "89 : 서남환경에너지(주), 서남환경에너지(주)\n",
      "90 : 미래환경, 미래환경\n",
      "91 : (주)이에스알씨, (주)이에스알씨\n",
      "92 : (주)디케이유업, (주)디케이유업\n",
      "93 : (주)동경산업, (주)동경산업\n",
      "94 : (주)그린시티, (주)그린시티\n",
      "95 : 삼칠산업, 삼칠산업\n",
      "96 : 남양기업(주), 남양기업(주)\n",
      "97 : (주)초계산업, (주)초계산업\n",
      "98 : (주)삼오, (주)삼오\n",
      "99 : (주)경주환경에너지, (주)경주환경에너지\n",
      "100 : (주)태흥환경개발, (주)태흥환경개발\n",
      "101 : (주)리보테크, (주)리보테크\n",
      "102 : (주)예원환경, (주)예원환경\n",
      "103 : (주)우진산업, (주)우진산업\n",
      "104 : (주)삼오개발, (주)삼오개발\n",
      "105 : (주)동건기업, (주)동건기업\n",
      "106 : (주)동부스틸, (주)동부스틸\n",
      "107 : (주)대지에스텍, (주)대지에스텍\n",
      "108 : (주)태평양, (주)태평양\n",
      "109 : (주)청보, (주)청보\n",
      "110 : (주)창원에너텍, (주)창원에너텍\n",
      "111 : (주)대우환경, (주)대우환경\n",
      "112 : 한진기업(주), 한진기업(주)\n",
      "113 : 태경환경, 태경환경\n",
      "114 : (주)씨엔지, (주)씨엔지\n",
      "115 : 성암환경, 성암환경\n",
      "116 : (주)아림환경, (주)아림환경\n",
      "117 : (주)새재환경, (주)새재환경\n",
      "118 : 웅부환경(주), 웅부환경(주)\n",
      "119 : 동민산업협동조합, 동민산업협동조합\n",
      "120 : (주)삼우그린, (주)삼우그린\n",
      "121 : (주)효성철강, (주)효성철강\n",
      "122 : (주)보원에코, (주)보원에코\n",
      "123 : 서현개발(주), 서현개발(주)\n",
      "124 : 전남향군(주), 전남향군(주)\n",
      "125 : (주)금광공사, (주)금광공사\n",
      "126 : (주)성지이테크, (주)성지이테크\n",
      "127 : 대아환경(주), 대아환경(주)\n",
      "128 : (주)대동환경, (주)대동환경\n",
      "129 : (주)태연산업개발, (주)태연산업개발\n",
      "130 : (주)고려엠텍, (주)고려엠텍\n",
      "131 : (주)성일이엔씨, (주)성일이엔씨\n",
      "132 : 삼성폐차(주), 삼성폐차(주)\n",
      "133 : 대룡환경산업(주), 대룡환경산업(주)\n",
      "134 : 유영산업(주), 유영산업(주)\n",
      "135 : (주)지왕산업, (주)지왕산업\n",
      "136 : 근영산업(주), 근영산업(주)\n",
      "137 : 엔이티(주), 엔이티(주)\n",
      "138 : (주)부산메탈상사, (주)부산메탈상사\n",
      "139 : (주)대도이앤알, (주)대도이앤알\n",
      "140 : 남구정화(주), 남구정화(주)\n",
      "141 : (주)명성로직스, (주)명성로직스\n",
      "142 : (주)늘푸른환경, (주)늘푸른환경\n",
      "143 : 고려이엔알(주), 고려이엔알(주)\n",
      "144 : (주)현대컴퍼니, (주)현대컴퍼니\n",
      "145 : 은평산업, 은평산업\n",
      "146 : 하남기업(주), 하남기업(주)\n",
      "147 : 태성기초산업(주), 태성기초산업(주)\n",
      "148 : (주)청우이앤디, (주)청우이앤디\n",
      "149 : 평아실업(주), 평아실업(주)\n",
      "150 : (주)강우, (주)강우\n",
      "151 : (주)유성, (주)유성\n",
      "152 : 일진환경(주), 일진환경(주)\n",
      "153 : 은성산업, 은성산업\n",
      "154 : 주목산업(주), 주목산업(주)\n",
      "155 : (주)비아이티, (주)비아이티\n",
      "156 : 대흥산업(주), 대흥산업(주)\n",
      "157 : 욱성산업(주), 욱성산업(주)\n",
      "158 : 진성산업개발(주), 진성산업개발(주)\n",
      "159 : (주)장형기업, (주)장형기업\n",
      "160 : 대성환경, 대성환경\n",
      "161 : 케이제이아이(주), 케이제이아이(주)\n",
      "162 : 국민산업(주), 국민산업(주)\n",
      "163 : 에코글로벌서비스(주), 에코글로벌서비스(주)\n",
      "164 : 에이스네이처(주), 에이스네이처(주)\n",
      "165 : 인성코퍼레이션(주), 인성코퍼레이션(주)\n",
      "166 : 고려철재(주), 고려철재(주)\n",
      "167 : (주)그린엔텍, (주)그린엔텍\n",
      "168 : (주)에닉스, (주)에닉스\n",
      "169 : (주)신진이앤씨, (주)신진이앤씨\n",
      "170 : (주)새움, (주)새움\n",
      "171 : (주)에이티에너지, (주)에이티에너지\n",
      "172 : (주)제이엔물류, (주)제이엔물류\n",
      "173 : 백진환경(자), 백진환경(자)\n",
      "174 : 삼진기업(주), 삼진기업(주)\n",
      "175 : (유)남해환경, (유)남해환경\n",
      "176 : (주)동양환경, (주)동양환경\n",
      "177 : (유)드림에너지, (유)드림에너지\n",
      "178 : (유)동부환경, (유)동부환경\n",
      "179 : 일호환경산업(주), 일호환경산업(주)\n",
      "180 : (유)장성이엔티, (유)장성이엔티\n",
      "181 : (주)동남바이오, (주)동남바이오\n",
      "182 : 동양개발(주), 동양개발(주)\n",
      "183 : (유)금성상공, (유)금성상공\n",
      "184 : (주)유현테크, (주)유현테크\n",
      "185 : (유)세아자원, (유)세아자원\n",
      "186 : 서광산업(주), 서광산업(주)\n",
      "187 : (주)글로벌환경, (주)글로벌환경\n",
      "188 : (유)삼우환경개발, (유)삼우환경개발\n",
      "189 : (주)명보, (주)명보\n",
      "190 : (주)청봉환경, (주)청봉환경\n",
      "191 : (주)제주클린에너지, (주)제주클린에너지\n",
      "192 : 충청환경에너지(주), 충청환경에너지(주)\n",
      "193 : 우선산업(주), 우선산업(주)\n",
      "194 : (주)유진이앤씨, (주)유진이앤씨\n",
      "195 : 청주환경산업, 청주환경산업\n",
      "196 : (주)에스그린, (주)에스그린\n",
      "197 : (주)대일기업, (주)대일기업\n",
      "198 : (주)중원환경산업, (주)중원환경산업\n",
      "199 : (주)느티나무, (주)느티나무\n",
      "200 : (주)에스디국제무역, (주)에스디국제무역\n",
      "201 : (주)정일건설환경, (주)정일건설환경\n",
      "202 : (주)환경21, (주)환경21\n",
      "203 : (주)다온, (주)다온\n",
      "204 : (주)금강환경, (주)금강환경\n",
      "205 : (주)제이디산업개발, (주)제이디산업개발\n",
      "206 : 수미환경산업(주), 수미환경산업(주)\n",
      "207 : 양지아이앤디(주), 양지아이앤디(주)\n",
      "208 : 한세이프(주), 한세이프(주)\n",
      "209 : 디에이치이산업(주), 디에이치이산업(주)\n"
     ]
    }
   ],
   "source": [
    "browser = open_browser()\n",
    "\n",
    "count = 1\n",
    "\n",
    "error_urls = []\n",
    "\n",
    "for url, company_name in zip(url_list, company_name_list):\n",
    "    try:\n",
    "        open_url(browser, url)\n",
    "        print(f\"{count} : {company_name}, {find_id('objSQ1', browser).get_attribute('value')}\")\n",
    "        count += 1\n",
    "    except:\n",
    "        error_urls.append(url)\n",
    "        \n",
    "browser.close()"
   ]
  },
  {
   "cell_type": "code",
   "execution_count": 10,
   "id": "622745cb",
   "metadata": {},
   "outputs": [
    {
     "data": {
      "text/plain": [
       "0"
      ]
     },
     "execution_count": 10,
     "metadata": {},
     "output_type": "execute_result"
    }
   ],
   "source": [
    "len(error_urls)"
   ]
  },
  {
   "cell_type": "code",
   "execution_count": 11,
   "id": "9440f3d9",
   "metadata": {},
   "outputs": [
    {
     "data": {
      "text/plain": [
       "[]"
      ]
     },
     "execution_count": 11,
     "metadata": {},
     "output_type": "execute_result"
    }
   ],
   "source": [
    "error_urls"
   ]
  }
 ],
 "metadata": {
  "kernelspec": {
   "display_name": "Python 3 (ipykernel)",
   "language": "python",
   "name": "python3"
  },
  "language_info": {
   "codemirror_mode": {
    "name": "ipython",
    "version": 3
   },
   "file_extension": ".py",
   "mimetype": "text/x-python",
   "name": "python",
   "nbconvert_exporter": "python",
   "pygments_lexer": "ipython3",
   "version": "3.11.4"
  }
 },
 "nbformat": 4,
 "nbformat_minor": 5
}
