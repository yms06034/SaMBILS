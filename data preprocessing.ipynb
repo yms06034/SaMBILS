{
 "cells": [
  {
   "cell_type": "code",
   "execution_count": 1,
   "id": "0ae50078",
   "metadata": {},
   "outputs": [],
   "source": [
    "import pandas as pd"
   ]
  },
  {
   "cell_type": "code",
   "execution_count": 47,
   "id": "7e16b732",
   "metadata": {},
   "outputs": [],
   "source": [
    "df = pd.read_excel('C:\\\\Users\\\\yms06\\\\Downloads\\\\23년 중소기업 정보화 수준조사 중소기업.xlsx')\n",
    "df1 = pd.read_excel('C:\\\\Users\\\\yms06\\\\Downloads\\\\23년 중소기업 정보화 수준조사 중소기업 2.xlsx')"
   ]
  },
  {
   "cell_type": "code",
   "execution_count": 48,
   "id": "1f5ccb0c",
   "metadata": {},
   "outputs": [],
   "source": [
    "df_1 = df.copy()\n",
    "df_2 = df1.copy()"
   ]
  },
  {
   "cell_type": "code",
   "execution_count": 49,
   "id": "694d1ace",
   "metadata": {},
   "outputs": [
    {
     "name": "stdout",
     "output_type": "stream",
     "text": [
      "Index(['ID', '기업구분', '매출액 규모', '참여사업명', '산업', '코드 분류 (대분류)', '코드 분류 (중분류)',\n",
      "       '코드 분류2 (중분류)', '기업명', '사업자 등록번호', '법인등록번호', '소재지', '창업년도', '응답자 성명',\n",
      "       '소속', '직위·직급', 'E-mail', '전화번호', '1', '2', '3', '4-1', '4-2', '5',\n",
      "       '6-1', '6-2', '6-3', '7', '8', '9', '10', '휴대폰 번호', '이메일 주소', '부서',\n",
      "       '이름', '직책', '통화내용', '컨텍코드', '조사원'],\n",
      "      dtype='object')\n",
      "Index(['ID', '기업구분', '매출액 규모', '참여사업명', '산업', '코드 분류 (대분류)', '코드 분류 (중분류)',\n",
      "       '코드 분류2 (중분류)', '기업명', '사업자 등록번호', '법인등록번호', '소재지', '창업년도', '응답자 성명',\n",
      "       '소속', '직위·직급', 'E-mail', '전화번호', '1', '2', '3', '4-1', '4-2', '5',\n",
      "       '6-1', '6-2', '6-3', '7', '8', '9', '10', '휴대폰 번호', '이메일 주소', '부서',\n",
      "       '이름', '직책', '통화내용', '컨텍코드', '조사원'],\n",
      "      dtype='object')\n"
     ]
    }
   ],
   "source": [
    "print(df_1.columns)\n",
    "print(df_2.columns)"
   ]
  },
  {
   "cell_type": "code",
   "execution_count": 58,
   "id": "b4e0771e",
   "metadata": {},
   "outputs": [
    {
     "name": "stderr",
     "output_type": "stream",
     "text": [
      "C:\\Users\\yms06\\AppData\\Local\\Temp\\ipykernel_1596\\623368197.py:1: FutureWarning: In a future version, the Index constructor will not infer numeric dtypes when passed object-dtype sequences (matching Series behavior)\n",
      "  df2 = pd.merge(df_1, df_2, how='outer', indicator=True\n"
     ]
    }
   ],
   "source": [
    "df2 = pd.merge(df_1, df_2, how='outer', indicator=True\n",
    "              )"
   ]
  },
  {
   "cell_type": "code",
   "execution_count": 59,
   "id": "74a9b853",
   "metadata": {},
   "outputs": [
    {
     "data": {
      "text/plain": [
       "['both', 'left_only', 'right_only']\n",
       "Categories (3, object): ['left_only', 'right_only', 'both']"
      ]
     },
     "execution_count": 59,
     "metadata": {},
     "output_type": "execute_result"
    }
   ],
   "source": [
    "df2['_merge'].unique()"
   ]
  },
  {
   "cell_type": "code",
   "execution_count": 60,
   "id": "fd09d206",
   "metadata": {},
   "outputs": [],
   "source": [
    "df2_1 = df2.copy()"
   ]
  },
  {
   "cell_type": "code",
   "execution_count": 64,
   "id": "0c1e1945",
   "metadata": {},
   "outputs": [
    {
     "data": {
      "text/plain": [
       "617"
      ]
     },
     "execution_count": 64,
     "metadata": {},
     "output_type": "execute_result"
    }
   ],
   "source": [
    "df2_1.duplicated(['ID'], keep='first').sum()"
   ]
  },
  {
   "cell_type": "code",
   "execution_count": 66,
   "id": "3c674911",
   "metadata": {},
   "outputs": [],
   "source": [
    "true_df = df2_1.drop_duplicates(['ID'])"
   ]
  },
  {
   "cell_type": "code",
   "execution_count": 70,
   "id": "b30fb2a8",
   "metadata": {},
   "outputs": [
    {
     "name": "stderr",
     "output_type": "stream",
     "text": [
      "C:\\Users\\yms06\\AppData\\Local\\Temp\\ipykernel_1596\\3942170446.py:1: SettingWithCopyWarning: \n",
      "A value is trying to be set on a copy of a slice from a DataFrame\n",
      "\n",
      "See the caveats in the documentation: https://pandas.pydata.org/pandas-docs/stable/user_guide/indexing.html#returning-a-view-versus-a-copy\n",
      "  true_df.drop(['_merge'], axis=1,inplace=True)\n"
     ]
    }
   ],
   "source": [
    "true_df.drop(['_merge'], axis=1,inplace=True)"
   ]
  },
  {
   "cell_type": "code",
   "execution_count": 72,
   "id": "4bd2186b",
   "metadata": {},
   "outputs": [],
   "source": [
    "true_df.to_excel('정보화데이터전처리(중소기업).xlsx', index=False)"
   ]
  },
  {
   "cell_type": "markdown",
   "id": "6ae07931",
   "metadata": {},
   "source": [
    "---------------"
   ]
  },
  {
   "cell_type": "code",
   "execution_count": 19,
   "id": "3b91335a",
   "metadata": {},
   "outputs": [],
   "source": [
    "df = pd.read_excel('정보화 Data Preprocessing (0104).xlsx')\n",
    "df1 = pd.read_excel('231222-정보화리스트_기업데이터.xlsx')"
   ]
  },
  {
   "cell_type": "code",
   "execution_count": 20,
   "id": "953aa2fd",
   "metadata": {},
   "outputs": [
    {
     "data": {
      "text/plain": [
       "Index(['URL', 'ID', '기업구분', '매출액 규모', '참여사업명', '산업', '코드 분류 (대분류)',\n",
       "       '코드 분류 (중분류)', '코드 분류2 (중분류)', '기업명', '사업자 등록번호', '사업자등록번호2', '법인등록번호',\n",
       "       '소재지', '창업년도', '응답자 성명', '소속', '직위·직급', 'E-mail', '전화번호', '본사여부', '거래처',\n",
       "       '본사직원 비율', '생산직비율', '남녀비율', '정보화투자여부', '정보보안교육여부', '연횟수', '정보화교육투자비용',\n",
       "       '정보화담당인력', '정보화외주여부', '데이터부서여부', '활용AI여부', '휴대폰 번호', '이메일 주소', '부서',\n",
       "       '이름', '직책', '통화내용', '컨텍코드', '조사원'],\n",
       "      dtype='object')"
      ]
     },
     "execution_count": 20,
     "metadata": {},
     "output_type": "execute_result"
    }
   ],
   "source": [
    "df.columns"
   ]
  },
  {
   "cell_type": "code",
   "execution_count": 21,
   "id": "21c445d3",
   "metadata": {},
   "outputs": [],
   "source": [
    "df2 = pd.merge(df, df1, how='inner', indicator=True, on='사업자등록번호2')"
   ]
  },
  {
   "cell_type": "code",
   "execution_count": 23,
   "id": "67247a92",
   "metadata": {},
   "outputs": [
    {
     "data": {
      "text/plain": [
       "Index(['URL', 'ID', '기업구분', '매출액 규모', '참여사업명', '산업', '코드 분류 (대분류)',\n",
       "       '코드 분류 (중분류)', '코드 분류2 (중분류)', '기업명_x', '사업자 등록번호', '사업자등록번호2',\n",
       "       '법인등록번호_x', '소재지', '창업년도', '응답자 성명', '소속', '직위·직급', 'E-mail', '전화번호',\n",
       "       '본사여부', '거래처', '본사직원 비율', '생산직비율', '남녀비율', '정보화투자여부', '정보보안교육여부', '연횟수',\n",
       "       '정보화교육투자비용', '정보화담당인력', '정보화외주여부', '데이터부서여부', '활용AI여부', '휴대폰 번호',\n",
       "       '이메일 주소', '부서', '이름', '직책', '통화내용', '컨텍코드', '조사원', '법인등록번호_y', '기업명_y',\n",
       "       '종사자수', '22년 자본금', '21년 자본금', '22년매출액', '21년매출액', '22년수출액', '21년수출액',\n",
       "       '22년영업이익', '21년영업이익', '_merge'],\n",
       "      dtype='object')"
      ]
     },
     "execution_count": 23,
     "metadata": {},
     "output_type": "execute_result"
    }
   ],
   "source": [
    "df2.columns"
   ]
  },
  {
   "cell_type": "code",
   "execution_count": 24,
   "id": "e3074832",
   "metadata": {},
   "outputs": [],
   "source": [
    "df2.to_excel('test.xlsx', index=False)"
   ]
  },
  {
   "cell_type": "code",
   "execution_count": null,
   "id": "08984399",
   "metadata": {},
   "outputs": [],
   "source": []
  },
  {
   "cell_type": "markdown",
   "id": "c96dc8d0",
   "metadata": {},
   "source": [
    "-------------"
   ]
  },
  {
   "cell_type": "code",
   "execution_count": 1,
   "id": "e3149dff",
   "metadata": {},
   "outputs": [],
   "source": [
    "from selenium import webdriver\n",
    "from selenium.webdriver.common.by import By\n",
    "from selenium.webdriver.common.keys import Keys\n",
    "from selenium.webdriver.chrome.options import Options\n",
    "from selenium.webdriver.chrome.service import Service\n",
    "from selenium.common.exceptions import NoSuchElementException\n",
    "from selenium.webdriver.support.ui import WebDriverWait\n",
    "from selenium.webdriver.support import expected_conditions as EC\n",
    "from selenium.common.exceptions import NoAlertPresentException\n",
    "from selenium.webdriver.support.ui import Select\n",
    "\n",
    "from bs4 import BeautifulSoup as BS\n",
    "from datetime import datetime\n",
    "from random import *\n",
    "\n",
    "import pandas as pd\n",
    "import time\n",
    "import sys, os\n",
    "import random\n",
    "import re\n",
    "import math\n",
    "\n",
    "\n",
    "def find_css(css_selector, browser):\n",
    "    return browser.find_element(By.CSS_SELECTOR, css_selector)\n",
    "def finds_css(css_selector, browser):\n",
    "    return browser.find_elements(By.CSS_SELECTOR, css_selector)\n",
    "\n",
    "def find_xpath(xpath, browser):\n",
    "    return browser.find_element(By.XPATH, xpath)\n",
    "def finds_xpath(xpath, browser):\n",
    "    return browser.find_elements(By.XPATH, xpath)\n",
    "\n",
    "def find_id(e_id, browser):\n",
    "    return browser.find_element(By.ID, e_id)\n",
    "\n",
    "def find_className(cn, browser):\n",
    "    return browser.find_element(By.CLASS_NAME, cn)\n",
    "def finds_className(cn , browser):\n",
    "    return browser.find_element(By.CLASS_NAME, cn)\n",
    "\n",
    "def find_linktext(lt, browser):\n",
    "    return browser.find_element(By.LINK_TEXT, lt)\n",
    "\n",
    "def find_name(name, browser):\n",
    "    return browser.find_element(By.NAME, name)\n",
    "def finds_name(name, browser):\n",
    "    return browser.find_elements(By.NAME, name)\n",
    "\n",
    "def resource_path(relative_path):\n",
    "    \"\"\" Get absolute path to resource, works for dev and for PyInstaller \"\"\"\n",
    "    base_path = getattr(sys, '_MEIPASS', os.path.dirname(os.path.abspath(__file__)))\n",
    "    return os.path.join(base_path, relative_path)\n",
    "\n",
    "def calculate_percentage(value, percentage):\n",
    "    result = (value * percentage) / 100\n",
    "    return result\n",
    "\n",
    "def extracting_numbers_from_text(text_price):\n",
    "    pattern = r'\\d+'\n",
    "    matches = re.findall(pattern, text_price)\n",
    "    result = int(''.join(matches))\n",
    "    return int(result)\n",
    "\n",
    "pattern = r'\\d+'"
   ]
  },
  {
   "cell_type": "code",
   "execution_count": 2,
   "id": "0286b0b7",
   "metadata": {},
   "outputs": [],
   "source": [
    "def open_browser():    \n",
    "    options = webdriver.ChromeOptions()\n",
    "    options.add_argument(\"--window-size=1080,800\")\n",
    "\n",
    "    chrome_service = Service('chromedriver')\n",
    "    chrome_service = Service(executable_path=\"chromedriver.exe\")\n",
    "    browser = webdriver.Chrome(service=chrome_service, options=options)\n",
    "    \n",
    "    return browser\n",
    "\n",
    "def open_url(browser, url):\n",
    "    browser.get(url)\n",
    "    time.sleep(1)"
   ]
  },
  {
   "cell_type": "code",
   "execution_count": 8,
   "id": "cf6fc21f",
   "metadata": {},
   "outputs": [],
   "source": [
    "df2 = pd.read_excel('정보화데이터전처리(완료_0105).xlsx')"
   ]
  },
  {
   "cell_type": "code",
   "execution_count": 9,
   "id": "e2197660",
   "metadata": {},
   "outputs": [
    {
     "name": "stdout",
     "output_type": "stream",
     "text": [
      "354\n",
      "354\n"
     ]
    }
   ],
   "source": [
    "url_list = df2['URL'].to_list()\n",
    "company_name_list = df2['기업명'].to_list()\n",
    "\n",
    "print(len(url_list))\n",
    "print(len(company_name_list))"
   ]
  },
  {
   "cell_type": "code",
   "execution_count": 11,
   "id": "8450a2f1",
   "metadata": {
    "scrolled": true
   },
   "outputs": [
    {
     "name": "stdout",
     "output_type": "stream",
     "text": [
      "1 : (주)한국소프트랩, (주)한국소프트랩\n",
      "2 : 로봇앤컴주식회사, 로봇앤컴주식회사\n",
      "3 : 주식회사 지란지교에스앤씨, 주식회사 지란지교에스앤씨\n",
      "4 : (주)한얼솔루션, (주)한얼솔루션\n",
      "5 : (주)제이콘텐트리, (주)제이콘텐트리\n",
      "6 : 래몽래인, 래몽래인\n",
      "7 : 주식회사드림팩토리스튜디오, 주식회사드림팩토리스튜디오\n",
      "8 : 주식회사 예쉬컴퍼니, 주식회사 예쉬컴퍼니\n",
      "9 : (주)애니베스트, (주)애니베스트\n",
      "10 : (주)에이바이트, (주)에이바이트\n",
      "11 : 이지뉴스, 이지뉴스\n",
      "12 : (주) 디비웍스, (주) 디비웍스\n",
      "13 : 메타빌드주식회사, 메타빌드주식회사\n",
      "14 : 주식회사 외식경영, 주식회사 외식경영\n",
      "15 : 주식회사 인밸류비즈, 주식회사 인밸류비즈\n",
      "16 : 나이스피앤아이(주), 나이스피앤아이(주)\n",
      "17 : (주)아이티아이즈, (주)아이티아이즈\n",
      "18 : (주)홈페이지코리아, (주)홈페이지코리아\n",
      "19 : 지티이엔티 주식회사, 지티이엔티 주식회사\n",
      "20 : 씨유박스, 씨유박스\n",
      "21 : 주식회사 수암, 주식회사 수암\n",
      "22 : 주식회사 아라니아, 주식회사 아라니아\n",
      "23 : (주)가비아, (주)가비아\n",
      "24 : 주식회사 포스웨이브, 주식회사 포스웨이브\n",
      "25 : (주) 다오버, (주) 다오버\n",
      "26 : (주)다누시스, (주)다누시스\n",
      "27 : 주식회사 스프링웍스, 주식회사 스프링웍스\n",
      "28 : (주)에이블정보기술, (주)에이블정보기술\n",
      "29 : (주)연무기술, (주)연무기술\n",
      "30 : (주)유미테크, (주)유미테크\n",
      "31 : 주식회사 티앤지테크, 주식회사 티앤지테크\n",
      "32 : (주)씨엠비, (주)씨엠비\n",
      "33 : 주식회사트루인테크놀로지스, 주식회사트루인테크놀로지스\n",
      "34 : 주식회사 유씨아이, 주식회사 유씨아이\n",
      "35 : 유징테크, 유징테크\n",
      "36 : (주)매일신문사, (주)매일신문사\n",
      "37 : 주식회사나눔오토메이션, 주식회사나눔오토메이션\n",
      "38 : (주)고산자, (주)고산자\n",
      "39 : (주)포스텍, (주)포스텍\n",
      "40 : 주식회사 쌍용소프트웨어, 주식회사 쌍용소프트웨어\n",
      "41 : (주)강원도민일보, (주)강원도민일보\n",
      "42 : (주)지오앤, (주)지오앤\n",
      "43 : (주)인사이드프로, (주)인사이드프로\n",
      "44 : (주)티케이, (주)티케이\n",
      "45 : 스포츠투아이(주), 스포츠투아이(주)\n",
      "46 : 호스트웨이아이디씨(주), 호스트웨이아이디씨(주)\n",
      "47 : (주)넥스챌, (주)넥스챌\n",
      "48 : (주)에이모, (주)에이모\n",
      "49 : (주)원익로보틱스, (주)원익로보틱스\n",
      "50 : (주)스튜디오게일, (주)스튜디오게일\n",
      "51 : (주)이파피루스, (주)이파피루스\n",
      "52 : (주)엔파인, (주)엔파인\n",
      "53 : 케이티링커스(주), 케이티링커스(주)\n",
      "54 : (주)포도, (주)포도\n",
      "55 : (주)유티플러스인터랙티브, (주)유티플러스인터랙티브\n",
      "56 : (주)엔글, (주)엔글\n",
      "57 : (주)쓰리뷰, (주)쓰리뷰\n",
      "58 : (주)경기일보, (주)경기일보\n",
      "59 : (주)경인일보, (주)경인일보\n",
      "60 : 렉스젠(주), 렉스젠(주)\n",
      "61 : 유앤아이기술(주), 유앤아이기술(주)\n",
      "62 : (주)비에스티코리아, (주)비에스티코리아\n",
      "63 : 두산로지스틱스솔루션(주), 두산로지스틱스솔루션(주)\n",
      "64 : 악당이반(주), 악당이반(주)\n",
      "65 : (주)블루캡, (주)블루캡\n",
      "66 : (주)디앤샤인, (주)디앤샤인\n",
      "67 : 코오롱베니트(주), 코오롱베니트(주)\n",
      "68 : (주)패스넷, (주)패스넷\n",
      "69 : (주)소베텍, (주)소베텍\n",
      "70 : (주)엔트리브소프트, (주)엔트리브소프트\n",
      "71 : (주)윈스, (주)윈스\n",
      "72 : 공간정보기술(주), 공간정보기술(주)\n",
      "73 : (주)엠티데이타, (주)엠티데이타\n",
      "74 : 원스토어(주), 원스토어(주)\n",
      "75 : (주)에스투더블유, (주)에스투더블유\n",
      "76 : 넵튠(주), 넵튠(주)\n",
      "77 : (주)케이포스트, (주)케이포스트\n",
      "78 : (주)파노텍, (주)파노텍\n",
      "79 : 패스트엔지니어링(주), 패스트엔지니어링(주)\n",
      "80 : 인트론(주), 인트론(주)\n",
      "81 : (주)큐램, (주)큐램\n",
      "82 : (주)하이프로테크, (주)하이프로테크\n",
      "83 : (주)이디코어, (주)이디코어\n",
      "84 : (주)동서정보기술, (주)동서정보기술\n",
      "85 : (주)반도전기통신, (주)반도전기통신\n",
      "86 : (주)휴비즈아이씨티, (주)휴비즈아이씨티\n",
      "87 : 아라소프트(주), 아라소프트(주)\n",
      "88 : (주)티아이에스, (주)티아이에스\n",
      "89 : (주)웨보노믹스, (주)웨보노믹스\n",
      "90 : (주)삼일전산, (주)삼일전산\n",
      "91 : (재)광주영어방송재단, (재)광주영어방송재단\n",
      "92 : (주)광주일보사, (주)광주일보사\n",
      "93 : (주)남도일보, (주)남도일보\n",
      "94 : (주)알앤유, (주)알앤유\n",
      "95 : (주)와이에이치데이타베이스, (주)와이에이치데이타베이스\n",
      "96 : 메카, 메카\n",
      "97 : (주)차지인, (주)차지인\n",
      "98 : (주)한국전산, (주)한국전산\n",
      "99 : (주)피앤에스정보, (주)피앤에스정보\n",
      "100 : (주)아이디정보시스템, (주)아이디정보시스템\n",
      "101 : (주)에스엠에스, (주)에스엠에스\n",
      "102 : (주)데이타비전, (주)데이타비전\n",
      "103 : (주)케이티씨에스, (주)케이티씨에스\n",
      "104 : 세이지데이타(주), 세이지데이타(주)\n",
      "105 : (주)코이션, (주)코이션\n",
      "106 : (주)라스테크, (주)라스테크\n",
      "107 : 성한(주), 성한(주)\n",
      "108 : (주)피플카, (주)피플카\n",
      "109 : (주)에이치쓰리시스템, (주)에이치쓰리시스템\n",
      "110 : (주)이디소프트, (주)이디소프트\n",
      "111 : (주)에스아이에이, (주)에스아이에이\n",
      "112 : 세림티에스지(주), 세림티에스지(주)\n",
      "113 : 비앤에프테크놀로지(주), 비앤에프테크놀로지(주)\n",
      "114 : (주)오투컴퍼니, (주)오투컴퍼니\n",
      "115 : (주)대전일보사, (주)대전일보사\n",
      "116 : 셀렉트스타(주), 셀렉트스타(주)\n",
      "117 : 닉스테크놀로지(주), 닉스테크놀로지(주)\n",
      "118 : (주)솔루션랩, (주)솔루션랩\n",
      "119 : (주)모두텍, (주)모두텍\n",
      "120 : (주)에이투엠, (주)에이투엠\n",
      "121 : 소프트온넷(주), 소프트온넷(주)\n",
      "122 : (주)케이웍스, (주)케이웍스\n",
      "123 : (주)지란지교소프트, (주)지란지교소프트\n",
      "124 : (주)예람, (주)예람\n",
      "125 : (주)디알, (주)디알\n",
      "126 : (주)홍익무선, (주)홍익무선\n",
      "127 : (주)포미트, (주)포미트\n",
      "128 : (주)아리모아, (주)아리모아\n",
      "129 : (주)케이트, (주)케이트\n",
      "130 : (주)지원소프트, (주)지원소프트\n",
      "131 : (주)레이랩, (주)레이랩\n",
      "132 : (주)엑솔아이티, (주)엑솔아이티\n",
      "133 : 부산일보(주), 부산일보(주)\n",
      "134 : (주)퀘스타시스템, (주)퀘스타시스템\n",
      "135 : 캐드윈시스템(주), 캐드윈시스템(주)\n",
      "136 : (주)리얼시큐, (주)리얼시큐\n",
      "137 : (주)비즈폼, (주)비즈폼\n",
      "138 : (주)엘리엇, (주)엘리엇\n",
      "139 : (주)이지위드, (주)이지위드\n",
      "140 : (주)매스메스에이지, (주)매스메스에이지\n",
      "141 : (주)클루커스, (주)클루커스\n",
      "142 : (주)배가크리에이티브, (주)배가크리에이티브\n",
      "143 : (주)싸이크로스, (주)싸이크로스\n",
      "144 : (주)넷아이디, (주)넷아이디\n",
      "145 : 페이레터(주), 페이레터(주)\n",
      "146 : 한국신용카드결제(주), 한국신용카드결제(주)\n",
      "147 : (주)메타넷글로벌, (주)메타넷글로벌\n",
      "148 : (주)케이티엠모바일, (주)케이티엠모바일\n",
      "149 : (주)스타랩스, (주)스타랩스\n",
      "150 : (주)자이언트스텝, (주)자이언트스텝\n",
      "151 : (주)빅슨커뮤니케이션, (주)빅슨커뮤니케이션\n",
      "152 : (주)씨네일레븐, (주)씨네일레븐\n",
      "153 : (주)대교씨엔에스, (주)대교씨엔에스\n",
      "154 : (주)피엘앤씨테크놀로지, (주)피엘앤씨테크놀로지\n",
      "155 : (주)위앤아이티, (주)위앤아이티\n",
      "156 : 샘솔정보(주), 샘솔정보(주)\n",
      "157 : (주)유디아이디, (주)유디아이디\n",
      "158 : 이주데이타시스템(주), 이주데이타시스템(주)\n",
      "159 : 웹투게더(주), 웹투게더(주)\n",
      "160 : (주)케이더블유북스, (주)케이더블유북스\n",
      "161 : 드림라인(주), 드림라인(주)\n",
      "162 : (주)교림소프트, (주)교림소프트\n",
      "163 : (주)데이타메이션, (주)데이타메이션\n",
      "164 : (주)오픈드래프트, (주)오픈드래프트\n",
      "165 : (주)핀시큐리티, (주)핀시큐리티\n",
      "166 : (주)두두아이티, (주)두두아이티\n",
      "167 : (주)다온아카이브웍스, (주)다온아카이브웍스\n",
      "168 : (주)픽셀플레넷, (주)픽셀플레넷\n",
      "169 : (주)지니프릭스, (주)지니프릭스\n",
      "170 : (주)씨아이피시스템, (주)씨아이피시스템\n",
      "171 : 자이로소프트(주), 자이로소프트(주)\n",
      "172 : 메리티움(주), 메리티움(주)\n",
      "173 : (주)엑스엔시스템즈, (주)엑스엔시스템즈\n",
      "174 : 이노테크놀로지(주), 이노테크놀로지(주)\n",
      "175 : (주)피오에스메카, (주)피오에스메카\n",
      "176 : 탠시(주), 탠시(주)\n",
      "177 : (주)유비퍼스트대원, (주)유비퍼스트대원\n",
      "178 : (주)유젠스에스앤씨, (주)유젠스에스앤씨\n",
      "179 : (주)호디, (주)호디\n",
      "180 : (주)비즈굿데이타, (주)비즈굿데이타\n",
      "181 : 엠비아이솔루션(주), 엠비아이솔루션(주)\n",
      "182 : (주)코리아피디에스, (주)코리아피디에스\n",
      "183 : 비아북, 비아북\n",
      "184 : 동아피엠(주), 동아피엠(주)\n",
      "185 : 주식회사 부키, 주식회사 부키\n",
      "186 : 미디어웨이, 미디어웨이\n",
      "187 : (주)넷퍼씨, (주)넷퍼씨\n",
      "188 : (주)퓨쳐아이티, (주)퓨쳐아이티\n",
      "189 : (주)오픈베이스, (주)오픈베이스\n",
      "190 : (주)인텔리빅스, (주)인텔리빅스\n",
      "191 : 주식회사 윌비소프트, 주식회사 윌비소프트\n",
      "192 : (주)써스포, (주)써스포\n",
      "193 : (주)오픈시스템서비스, (주)오픈시스템서비스\n",
      "194 : (주)신영미디어, (주)신영미디어\n",
      "195 : (주)지디에스케이, (주)지디에스케이\n",
      "196 : (주)이와이드플러스, (주)이와이드플러스\n",
      "197 : (주)링키지랩, (주)링키지랩\n",
      "198 : 태건에스앤아이(주), 태건에스앤아이(주)\n",
      "199 : (주)이퓨쳐, (주)이퓨쳐\n",
      "200 : (주)유비언, (주)유비언\n",
      "201 : (주)피도텍, (주)피도텍\n",
      "202 : 미래아이티(주), 미래아이티(주)\n",
      "203 : (주)동진커뮤니케이션시스템, (주)동진커뮤니케이션시스템\n",
      "204 : (주)스테이지파이브, (주)스테이지파이브\n",
      "205 : (주)한길바이오네트웍스, (주)한길바이오네트웍스\n",
      "206 : (주)에이스솔루션, (주)에이스솔루션\n",
      "207 : 솔루피아(주), 솔루피아(주)\n",
      "208 : (주)뉴스핌, (주)뉴스핌\n",
      "209 : (주)유알피시스템, (주)유알피시스템\n",
      "210 : (주)산들네트웍스, (주)산들네트웍스\n",
      "211 : 리드정보기술(주), 리드정보기술(주)\n",
      "212 : (주)보스테크, (주)보스테크\n",
      "213 : (주)엔트랙시스템, (주)엔트랙시스템\n",
      "214 : (주)넥스프론, (주)넥스프론\n",
      "215 : 콜넷코리아(주), 콜넷코리아(주)\n",
      "216 : (주)조이앤비즈, (주)조이앤비즈\n",
      "217 : (주)호아소프트, (주)호아소프트\n",
      "218 : (주)핑거, (주)핑거\n",
      "219 : (주)케이비에스아트비전, (주)케이비에스아트비전\n",
      "220 : 주식회사지케이알테크, 주식회사지케이알테크\n",
      "221 : (주)투비즈테크놀로지, (주)투비즈테크놀로지\n",
      "222 : 삼일인포마인(주), 삼일인포마인(주)\n",
      "223 : 서울셀렉션(주), 서울셀렉션(주)\n",
      "224 : (주) 연합뉴스티브이, (주) 연합뉴스티브이\n",
      "225 : (사)한국여신전문금융업협회, (사)한국여신전문금융업협회\n",
      "226 : (주)더벨, (주)더벨\n",
      "227 : 매경출판(주), 매경출판(주)\n",
      "228 : (주)아이비케이시스템, (주)아이비케이시스템\n",
      "229 : (주)오십사번가, (주)오십사번가\n",
      "230 : 레몬아이티, 레몬아이티\n",
      "231 : (주)레뷰코퍼레이션, (주)레뷰코퍼레이션\n",
      "232 : (주)육일칠, (주)육일칠\n",
      "233 : 비컴솔루션(주), 비컴솔루션(주)\n",
      "234 : 진우산전(주), 진우산전(주)\n",
      "235 : (주)애드아이티, (주)애드아이티\n",
      "236 : (주)와이어트, (주)와이어트\n",
      "237 : (주)시그마정보통신, (주)시그마정보통신\n",
      "238 : (주)돌고래유괴단, (주)돌고래유괴단\n",
      "239 : (주)열심히커뮤니케이션즈, (주)열심히커뮤니케이션즈\n",
      "240 : 더램프(주), 더램프(주)\n",
      "241 : (주)클래스팅, (주)클래스팅\n",
      "242 : (주)데이터마케팅코리아, (주)데이터마케팅코리아\n",
      "243 : (주)아이엠폼, (주)아이엠폼\n",
      "244 : (주)이즈넷, (주)이즈넷\n",
      "245 : (주)래빗워크, (주)래빗워크\n",
      "246 : (주)라이프시맨틱스, (주)라이프시맨틱스\n",
      "247 : (주)인텔리안시스템즈, (주)인텔리안시스템즈\n",
      "248 : (주)에스피소프트, (주)에스피소프트\n",
      "249 : (주)엠플랜잇, (주)엠플랜잇\n",
      "250 : (유)한국오라클, (유)한국오라클\n",
      "251 : 콘센트릭스서비스코리아(유), 콘센트릭스서비스코리아(유)\n",
      "252 : (주)씨티티디, (주)씨티티디\n",
      "253 : (주)엔더스, (주)엔더스\n",
      "254 : (주)폴리큐브, (주)폴리큐브\n",
      "255 : (주)뽀득, (주)뽀득\n",
      "256 : (주)현대아이티앤이, (주)현대아이티앤이\n",
      "257 : (주)아이센트릭, (주)아이센트릭\n",
      "258 : (주)컴테크컨설팅, (주)컴테크컨설팅\n",
      "259 : 파이언넷(주), 파이언넷(주)\n",
      "260 : (주)나래에스앤씨, (주)나래에스앤씨\n",
      "261 : (주)코아시스템, (주)코아시스템\n",
      "262 : (주)나래커뮤니케이션즈, (주)나래커뮤니케이션즈\n",
      "263 : (주)화광신문사, (주)화광신문사\n",
      "264 : (주)프로니스정보기술, (주)프로니스정보기술\n",
      "265 : (주)아이티뱅크, (주)아이티뱅크\n",
      "266 : 넷마블네오(주), 넷마블네오(주)\n",
      "267 : (주)엠파트너스, (주)엠파트너스\n",
      "268 : (주)쏜다넷, (주)쏜다넷\n",
      "269 : (주)나오디지탈, (주)나오디지탈\n",
      "270 : (주)매트릭스투비, (주)매트릭스투비\n",
      "271 : (주)아이앤씨엠, (주)아이앤씨엠\n",
      "272 : (주)케이씨넷, (주)케이씨넷\n",
      "273 : (주)인터메타, (주)인터메타\n",
      "274 : (주)비욘드테크, (주)비욘드테크\n",
      "275 : (주)아사달, (주)아사달\n",
      "276 : (주)위더스이십일, (주)위더스이십일\n",
      "277 : 디지털원(주), 디지털원(주)\n",
      "278 : (주)에프아이솔루션, (주)에프아이솔루션\n",
      "279 : (주)에어코드, (주)에어코드\n",
      "280 : (주)네오그라프, (주)네오그라프\n",
      "281 : (주)애드사운드, (주)애드사운드\n",
      "282 : (주)디투엘, (주)디투엘\n",
      "283 : (주)텍센, (주)텍센\n",
      "284 : 노아에스앤씨(주), 노아에스앤씨(주)\n",
      "285 : (주)위지언, (주)위지언\n",
      "286 : (주)그래픽코드, (주)그래픽코드\n",
      "287 : (주)라톤테크, (주)라톤테크\n",
      "288 : (주)디지탈센스, (주)디지탈센스\n",
      "289 : (주)임픽스, (주)임픽스\n",
      "290 : 미르네트웍스(주), 미르네트웍스(주)\n",
      "291 : (주)기독교텔레비전, (주)기독교텔레비전\n",
      "292 : (주)카인드, (주)카인드\n",
      "293 : (주)올댓스토리, (주)올댓스토리\n",
      "294 : (주)센티널테크놀로지, (주)센티널테크놀로지\n",
      "295 : 리얼타임비쥬얼(주), 리얼타임비쥬얼(주)\n",
      "296 : 굿모닝아이텍(주), 굿모닝아이텍(주)\n",
      "297 : (주)파이디지털헬스케어, (주)파이디지털헬스케어\n",
      "298 : 월드버텍(주), 월드버텍(주)\n",
      "299 : (주)애니인포넷, (주)애니인포넷\n",
      "300 : (주)하이픈코퍼레이션, (주)하이픈코퍼레이션\n",
      "301 : (주)디앤디기술, (주)디앤디기술\n",
      "302 : (주)더레이블, (주)더레이블\n",
      "303 : (주)무사이, (주)무사이\n",
      "304 : (주)에이치씨엔, (주)에이치씨엔\n",
      "305 : (주)그루젠, (주)그루젠\n",
      "306 : (주)콘텐츠와이즈, (주)콘텐츠와이즈\n",
      "307 : (주)월드소프트, (주)월드소프트\n",
      "308 : (주)플럭시티, (주)플럭시티\n",
      "309 : (주)베이시스소프트, (주)베이시스소프트\n",
      "310 : (주)케이믹글로벌, (주)케이믹글로벌\n",
      "311 : (주)필라웨어, (주)필라웨어\n",
      "312 : 노츠(주), 노츠(주)\n",
      "313 : (주)나루데이타, (주)나루데이타\n",
      "314 : (주)이롭게, (주)이롭게\n",
      "315 : (주)펀진, (주)펀진\n",
      "316 : 넷매니아(주), 넷매니아(주)\n",
      "317 : (주)네오프레임, (주)네오프레임\n",
      "318 : (주)휴먼엔시스, (주)휴먼엔시스\n",
      "319 : (주)굿게이트, (주)굿게이트\n",
      "320 : (주)엘시테크, (주)엘시테크\n",
      "321 : 아이티커리어즈(주), 아이티커리어즈(주)\n",
      "322 : 엠아이앤컴퍼니(주), 엠아이앤컴퍼니(주)\n",
      "323 : (주)지노시스템, (주)지노시스템\n",
      "324 : (주)소프트그램, (주)소프트그램\n",
      "325 : (주)캐스트피아, (주)캐스트피아\n",
      "326 : (주)한국금융아이티, (주)한국금융아이티\n",
      "327 : 아이클라우드(주), 아이클라우드(주)\n",
      "328 : (주)소만사, (주)소만사\n",
      "329 : (주)씨티컴퍼니, (주)씨티컴퍼니\n"
     ]
    },
    {
     "name": "stdout",
     "output_type": "stream",
     "text": [
      "330 : (주)아이오케이컴퍼니, (주)아이오케이컴퍼니\n",
      "331 : (주)진학사, (주)진학사\n",
      "332 : 도시바글로벌커머스솔루션즈코리아(주), 도시바글로벌커머스솔루션즈코리아(주)\n",
      "333 : 동국시스템즈(주), 동국시스템즈(주)\n",
      "334 : (주)그래피직스, (주)그래피직스\n",
      "335 : 원엔지니어링(주), 원엔지니어링(주)\n",
      "336 : 온브랜딩, 온브랜딩\n",
      "337 : (주)원지리정보, (주)원지리정보\n",
      "338 : (주)참좋은인터넷, (주)참좋은인터넷\n",
      "339 : (주)디디오넷코리아, (주)디디오넷코리아\n",
      "340 : (주)테라에너지, (주)테라에너지\n",
      "341 : (주)센소프트, (주)센소프트\n",
      "342 : (재)전라북도경제통상진흥원, (재)전라북도경제통상진흥원\n",
      "343 : (주)넥스트이지, (주)넥스트이지\n",
      "344 : (주)셀젠텍, (주)셀젠텍\n",
      "345 : (주)주간당진시대신문사, (주)주간당진시대신문사\n",
      "346 : 원광종합건설(주), 원광종합건설(주)\n",
      "347 : (주)블록오디세이, (주)블록오디세이\n",
      "348 : (주)엠비씨충북, (주)엠비씨충북\n",
      "349 : 지엠아이티(주), 지엠아이티(주)\n"
     ]
    }
   ],
   "source": [
    "browser = open_browser()\n",
    "\n",
    "count = 1\n",
    "\n",
    "error_urls = []\n",
    "\n",
    "for url, company_name in zip(url_list, company_name_list):\n",
    "    try:\n",
    "        open_url(browser, url)\n",
    "        print(f\"{count} : {company_name}, {find_id('objSQ1', browser).get_attribute('value')}\")\n",
    "        count += 1\n",
    "    except:\n",
    "        error_urls.append(url)"
   ]
  },
  {
   "cell_type": "code",
   "execution_count": 12,
   "id": "622745cb",
   "metadata": {},
   "outputs": [
    {
     "data": {
      "text/plain": [
       "5"
      ]
     },
     "execution_count": 12,
     "metadata": {},
     "output_type": "execute_result"
    }
   ],
   "source": [
    "len(error_urls)"
   ]
  },
  {
   "cell_type": "code",
   "execution_count": 13,
   "id": "9440f3d9",
   "metadata": {},
   "outputs": [
    {
     "data": {
      "text/plain": [
       "['https://rnr.surveybox.kr/?pid=S16668f58vvy&grpid=list&resid=1170',\n",
       " 'https://rnr.surveybox.kr/?pid=S16668f58vvy&grpid=list&resid=3758',\n",
       " 'https://rnr.surveybox.kr/?pid=S16668f58vvy&grpid=list&resid=3488',\n",
       " 'https://rnr.surveybox.kr/?pid=S16668f58vvy&grpid=list&resid=10782',\n",
       " 'https://rnr.surveybox.kr/?pid=S16668f58vvy&grpid=list&resid=1175']"
      ]
     },
     "execution_count": 13,
     "metadata": {},
     "output_type": "execute_result"
    }
   ],
   "source": [
    "error_urls"
   ]
  }
 ],
 "metadata": {
  "kernelspec": {
   "display_name": "Python 3 (ipykernel)",
   "language": "python",
   "name": "python3"
  },
  "language_info": {
   "codemirror_mode": {
    "name": "ipython",
    "version": 3
   },
   "file_extension": ".py",
   "mimetype": "text/x-python",
   "name": "python",
   "nbconvert_exporter": "python",
   "pygments_lexer": "ipython3",
   "version": "3.11.4"
  }
 },
 "nbformat": 4,
 "nbformat_minor": 5
}
